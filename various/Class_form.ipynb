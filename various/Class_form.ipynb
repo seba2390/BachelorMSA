{
 "cells": [
  {
   "cell_type": "code",
   "execution_count": 3,
   "metadata": {},
   "outputs": [],
   "source": [
    "import numpy as np\n",
    "from itertools import permutations\n",
    "from copy import deepcopy\n",
    "\n",
    "from MSA_class import MultipleSequenceAlignment"
   ]
  },
  {
   "cell_type": "code",
   "execution_count": 4,
   "metadata": {},
   "outputs": [
    {
     "name": "stdout",
     "output_type": "stream",
     "text": [
      "Initial matrix:\n",
      "[['A' 'C']\n",
      " ['C' '_']]\n",
      "corresponding bit string:\n",
      "[1. 0. 0. 1. 1. 0.]\n",
      "corresponding score weights:\n",
      "[[ 1.  0.]\n",
      " [-1.  0.]]\n",
      "corresponding QUBO model given as (Q,h,d):\n",
      "(array([[ 4.,  0.,  4.,  0.,  1.,  0.],\n",
      "       [ 8.,  4.,  4.,  4.,  0.,  1.],\n",
      "       [ 0.,  0.,  4.,  0., -1.,  0.],\n",
      "       [ 0.,  0.,  8.,  4.,  0., -1.],\n",
      "       [ 0.,  0.,  0.,  0.,  4.,  0.],\n",
      "       [ 0.,  0.,  0.,  0.,  8.,  4.]]), array([[-8.],\n",
      "       [-8.],\n",
      "       [-8.],\n",
      "       [-8.],\n",
      "       [-8.],\n",
      "       [-8.]]), 12)\n"
     ]
    }
   ],
   "source": [
    "my_strings   = np.array([\"AC\",\"C\"])\n",
    "my_penalties = np.array([4,4,4])\n",
    "my_msa     = MultipleSequenceAlignment(strings = my_strings, penalties = my_penalties) \n",
    "print(\"Initial matrix:\")\n",
    "print(my_msa.initial_MSA)\n",
    "print(\"corresponding bit string:\")\n",
    "print(my_msa.initial_bitstring)\n",
    "print(\"corresponding score weights:\")\n",
    "print(my_msa.score_weights)\n",
    "print(\"corresponding QUBO model given as (Q,h,d):\")\n",
    "print(my_msa.QUBO_model)\n"
   ]
  },
  {
   "cell_type": "code",
   "execution_count": null,
   "metadata": {},
   "outputs": [],
   "source": []
  }
 ],
 "metadata": {
  "interpreter": {
   "hash": "de9184fb1100b1b99a61021f59422ac28d78a243336732ae833608768c206ac0"
  },
  "kernelspec": {
   "display_name": "Python 3.9.7 ('base')",
   "language": "python",
   "name": "python3"
  },
  "language_info": {
   "codemirror_mode": {
    "name": "ipython",
    "version": 3
   },
   "file_extension": ".py",
   "mimetype": "text/x-python",
   "name": "python",
   "nbconvert_exporter": "python",
   "pygments_lexer": "ipython3",
   "version": "3.9.7"
  },
  "orig_nbformat": 4
 },
 "nbformat": 4,
 "nbformat_minor": 2
}
