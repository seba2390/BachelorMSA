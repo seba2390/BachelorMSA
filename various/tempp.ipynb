{
 "cells": [
  {
   "cell_type": "code",
   "execution_count": 519,
   "metadata": {},
   "outputs": [],
   "source": [
    "import numpy as np\n",
    "import sympy as sp\n",
    "from IPython.display import display\n",
    "from itertools import permutations\n",
    "from copy import deepcopy\n",
    "\n",
    "from qiskit import transpile\n",
    "from qiskit import QuantumCircuit, ClassicalRegister, QuantumRegister\n",
    "from qiskit.visualization import plot_histogram\n",
    "from qiskit import Aer, execute\n",
    "from qiskit.circuit import Parameter\n",
    "from qiskit.providers.aer import StatevectorSimulator\n",
    "import networkx as nx\n",
    "\n",
    "from scipy.optimize import minimize\n",
    "from MSA_class import MultipleSequenceAlignment"
   ]
  },
  {
   "cell_type": "code",
   "execution_count": 520,
   "metadata": {},
   "outputs": [],
   "source": [
    "def get_Aer_backend(name: str):\n",
    "    \"\"\"Function for retrieving specified Aer backend\n",
    "    Possible backends include:\n",
    "    \n",
    "    \"aer_simulator\", \"aer_simulator_statevector\",\"aer_simulator_density_matrix\",\n",
    "    \"aer_simulator_stabilizer\",\"aer_simulator_matrix_product_state\",\n",
    "    \"aer_simulator_extended_stabilizer\",\"aer_simulator_unitary\",\n",
    "    \"aer_simulator_superop\",\"qasm_simulator,statevector_simulator\",\n",
    "    \"unitary_simulator\",\"pulse_simulator\"\n",
    "\n",
    "    Parameters:\n",
    "    -----------\n",
    "        name: string - name of chosen Aer qiskit backend\n",
    "\n",
    "    Returns:\n",
    "    --------\n",
    "        my_backend: qiskit.providers.aer.backends - chosen backend\n",
    "    \"\"\"\n",
    "    return Aer.get_backend(name)\n",
    "\n",
    "def compute_Q_edges(Q: np.ndarray) -> np.ndarray:\n",
    "    \"\"\" Function for computing edges from Q matrix in QUBO\n",
    "    \n",
    "    Parameters:\n",
    "    -----------\n",
    "        Q: np.ndarray - 2D numpy array containing weights in Q matrix from QUBO\n",
    "    \n",
    "    Returns:\n",
    "    --------\n",
    "       edges: np.ndarray - 1D numpy array of triplets np.array([(i_1,j_1,w_i1j1),(i_2,j_2,w_i2j2),...])\n",
    "\n",
    "    \"\"\"\n",
    "\n",
    "    edges = [] \n",
    "    for idx1 in range(Q.shape[1]):\n",
    "        for idx2 in range(Q.shape[0]):\n",
    "            if Q[idx1][idx2] != 0:\n",
    "                edges.append((idx1,idx2,Q[idx1][idx2]))\n",
    "    return edges\n",
    "\n",
    "def string_to_arr(string: str) -> np.ndarray:\n",
    "    \"\"\"Funtion for transforming given string of integers\n",
    "       to corresponding array of ints\n",
    "\n",
    "    Parameters:\n",
    "    -----------\n",
    "        string: str - a string of ints, e.g.: '001100'   \n",
    "\n",
    "    Returns:\n",
    "    --------\n",
    "        arr: np.ndarray - numpy array of ints, e.g.: np.array([0,0,1,1,0,0])\n",
    "    \"\"\"\n",
    "\n",
    "    arr = []\n",
    "    for str in string: arr.append(int(str))\n",
    "    return np.array(arr).reshape((len(np.array(arr)),1))\n",
    "    \n"
   ]
  },
  {
   "cell_type": "code",
   "execution_count": 521,
   "metadata": {},
   "outputs": [],
   "source": [
    "def create_qaoa_circ(my_MSA, theta, normalize_weights=True):\n",
    "    \n",
    "    \"\"\"\n",
    "    Creates a parametrized qaoa circuit\n",
    "\n",
    "    \"\"\"\n",
    "    letters_in_mat = [my_MSA.initial_MSA[i][j] for i in range(my_MSA.initial_MSA.shape[0]) \n",
    "                      for j in range(my_MSA.initial_MSA.shape[1]) if my_MSA.initial_MSA[i][j] != \"_\"]\n",
    "    \n",
    "    nqubits = int(len(letters_in_mat) *  my_MSA.initial_MSA.shape[1])  # Number of qubits = number of nodes in graph \n",
    "    p       = len(theta)//2                                            # Number of alternating unitaries\n",
    "    qc      = QuantumCircuit(nqubits)                                  # Initializing Q circuit w. nqubits nr. of qbits\n",
    "\n",
    "    beta  = theta[:p]                # Beta opt param for mixing unitaries as first p vals.\n",
    "    gamma = theta[p:]                # Gama opt param for cost unitaries as last p vals.\n",
    "    \n",
    "    p1, p2, p3 = my_MSA.penalties[0],  my_MSA.penalties[1],  my_MSA.penalties[2]\n",
    "\n",
    "    Q, h, d    = my_MSA.QUBO_model[0], my_MSA.QUBO_model[1], my_MSA.QUBO_model[2]\n",
    "\n",
    "    if normalize_weights:\n",
    "        Q *= 1./np.max(np.array([np.max(Q),np.max(h)]))\n",
    "        h *= 1./np.max(np.array([np.max(Q),np.max(h)]))\n",
    "\n",
    "    edges = compute_Q_edges(Q)\n",
    "\n",
    "    # Initial_state: Hadamark gate on each qbit\n",
    "    for i in range(0, nqubits):\n",
    "        qc.h(i)\n",
    "    \n",
    "    # Cost unitary:\n",
    "    for irep in range(0, p):        \n",
    "        for i, j, w_ij in edges:\n",
    "            if i!= j:\n",
    "                qc.rzz(2 * gamma[irep] * w_ij , i , j)\n",
    "            else:\n",
    "                qc.rz(2 * gamma[irep] * w_ij      , i) # Diagonal in Q matrix\n",
    "                qc.rz(2 * gamma[irep] * h[i] * p1 , i) # Elements of h vector\n",
    "\n",
    "    # Mixer unitary: X rotation on each qbit      \n",
    "    for irep in range(0, p): \n",
    "        for i in range(0, nqubits):\n",
    "            qc.rx(1 * beta[irep], i)\n",
    "            \n",
    "    qc.measure_all()        \n",
    "    return qc\n",
    "\n",
    "def compute_expectation(my_MSA: np.ndarray, counts) -> float:\n",
    "    \n",
    "    \"\"\"\n",
    "    Computes expectation value based on measurement results\n",
    "\n",
    "    \"\"\"\n",
    "    Q, h, d = my_MSA.QUBO_model[0], my_MSA.QUBO_model[1], my_MSA.QUBO_model[2]\n",
    "    sum_count, avg = 0, 0\n",
    "    for bitstring, count in counts.items():\n",
    "        state = string_to_arr(bitstring)\n",
    "        score = ((state.T @ (Q @ state)) + (h.T @ state) + d)[0][0]\n",
    "        avg  += score * count\n",
    "        sum_count += count\n",
    "    return avg/sum_count\n",
    "\n",
    "# Finally we write a function that executes the circuit on the chosen backend\n",
    "def get_expectation(my_MSA: np.ndarray, p: int, normalize_weights = True, shots=512):\n",
    "    \n",
    "    \"\"\"\n",
    "    Runs parametrized circuit\n",
    "    \n",
    "    \"\"\"\n",
    "    #backend = StatevectorSimulator(precision=\"double\")\n",
    "    backend = Aer.get_backend('aer_simulator')\n",
    "    backend.shots = shots\n",
    "    \n",
    "    def execute_circ(theta):\n",
    "        \n",
    "        qc = create_qaoa_circ(my_MSA, theta, normalize_weights=normalize_weights)\n",
    "        #qc = qc.decompose()\n",
    "        #qc = transpile(qc,optimization_level=3)\n",
    "        counts = backend.run(qc,seed_simulator=10).result().get_counts()\n",
    "        return compute_expectation(my_MSA,counts) ## Returns the expectation of graph, given counts\n",
    "    \n",
    "    return execute_circ"
   ]
  },
  {
   "cell_type": "code",
   "execution_count": 522,
   "metadata": {},
   "outputs": [],
   "source": [
    "my_strings   = np.array([\"AG\",\"G\"])\n",
    "my_penalties = np.array([1,1,1])\n",
    "my_msa       = MultipleSequenceAlignment(strings = my_strings, penalties = my_penalties) "
   ]
  },
  {
   "cell_type": "code",
   "execution_count": 523,
   "metadata": {},
   "outputs": [
    {
     "data": {
      "text/plain": [
       "<function __main__.get_expectation.<locals>.execute_circ(theta)>"
      ]
     },
     "execution_count": 523,
     "metadata": {},
     "output_type": "execute_result"
    }
   ],
   "source": [
    "shots = 512\n",
    "p = 6\n",
    "get_expectation(my_MSA = my_msa, p = p, normalize_weights=True, shots = shots)"
   ]
  },
  {
   "cell_type": "code",
   "execution_count": 524,
   "metadata": {},
   "outputs": [
    {
     "data": {
      "text/plain": [
       "     fun: -0.53759765625\n",
       "   maxcv: 0.0\n",
       " message: 'Optimization terminated successfully.'\n",
       "    nfev: 58\n",
       "  status: 1\n",
       " success: True\n",
       "       x: array([ 1.12577636,  0.59386694,  0.82384775,  2.09762814,  2.04881407,\n",
       "       -0.05087526])"
      ]
     },
     "execution_count": 524,
     "metadata": {},
     "output_type": "execute_result"
    },
    {
     "name": "stdout",
     "output_type": "stream",
     "text": [
      "\n",
      "   Normal return from subroutine COBYLA\n",
      "\n",
      "   NFVALS =   58   F =-5.375977E-01    MAXCV = 0.000000E+00\n",
      "   X = 1.125776E+00   5.938669E-01   8.238478E-01   2.097628E+00   2.048814E+00\n",
      "      -5.087526E-02\n"
     ]
    }
   ],
   "source": [
    "shots = 512\n",
    "p = 6\n",
    "expectation = get_expectation(my_MSA = my_msa, p = p, normalize_weights=True, shots = shots)\n",
    "options = {\"disp\":True,\"maxiter\": 1000}\n",
    "res = minimize(fun = expectation, x0 = np.ones(p), method='COBYLA',options = options)\n",
    "res"
   ]
  },
  {
   "cell_type": "code",
   "execution_count": 525,
   "metadata": {},
   "outputs": [
    {
     "data": {
      "image/png": "[encoded data removed]",
      "text/plain": [
       "<Figure size 1440x504 with 1 Axes>"
      ]
     },
     "execution_count": 525,
     "metadata": {},
     "output_type": "execute_result"
    }
   ],
   "source": [
    "from qiskit.visualization import plot_histogram\n",
    "\n",
    "backend = Aer.get_backend('aer_simulator')\n",
    "#backend = StatevectorSimulator(precision=\"double\")\n",
    "backend.shots = shots\n",
    "\n",
    "qc = create_qaoa_circ(my_MSA=my_msa,theta = res.x, normalize_weights=True)\n",
    "#qc = qc.decompose()\n",
    "#qc = transpile(qc,optimization_level=3)\n",
    "\n",
    "counts = backend.run(qc,seed_simulator=10).result().get_counts()\n",
    "plot_histogram(counts,figsize=(20,7))"
   ]
  },
  {
   "cell_type": "code",
   "execution_count": 526,
   "metadata": {},
   "outputs": [
    {
     "name": "stdout",
     "output_type": "stream",
     "text": [
      "[[1]\n",
      " [0]\n",
      " [1]\n",
      " [0]\n",
      " [1]\n",
      " [0]]\n",
      "[['G' '_']\n",
      " ['G' '_']]\n"
     ]
    }
   ],
   "source": [
    "def get_solutions(lim: int, counts):\n",
    "    idxs = np.flip(np.argsort(list(counts.values())))\n",
    "    return np.array(list(counts.keys()))[idxs][:lim]\n",
    "\n",
    "best_solutions = get_solutions(len(list(counts.values())),counts)\n",
    "states = [string_to_arr(solution) for solution in best_solutions]\n",
    "idx = 0\n",
    "print(states[idx])\n",
    "print(my_msa.bit_state_2_matrix(states[idx]))"
   ]
  },
  {
   "cell_type": "code",
   "execution_count": 527,
   "metadata": {},
   "outputs": [],
   "source": [
    "def cost_eval(my_MSA,theta):\n",
    "    qc = create_qaoa_circ(my_MSA, theta, normalize_weights=True)\n",
    "    #qc = qc.decompose()\n",
    "    #qc = transpile(qc,optimization_level=3)\n",
    "    counts = backend.run(qc,seed_simulator=10).result().get_counts()\n",
    "    return compute_expectation(my_MSA,counts) ## Returns the expectation of graph, given counts\n"
   ]
  },
  {
   "cell_type": "code",
   "execution_count": 528,
   "metadata": {},
   "outputs": [
    {
     "data": {
      "text/plain": [
       "-0.44677734375"
      ]
     },
     "execution_count": 528,
     "metadata": {},
     "output_type": "execute_result"
    }
   ],
   "source": [
    "cost_eval(my_msa,[1,1])"
   ]
  },
  {
   "cell_type": "code",
   "execution_count": 531,
   "metadata": {},
   "outputs": [
    {
     "data": {
      "image/png": "[encoded data removed]",
      "text/plain": [
       "<Figure size 432x288 with 2 Axes>"
      ]
     },
     "metadata": {
      "needs_background": "light"
     },
     "output_type": "display_data"
    }
   ],
   "source": [
    "import matplotlib.pyplot as plt\n",
    "from matplotlib import cm\n",
    "from matplotlib.ticker import LinearLocator\n",
    "import numpy as np\n",
    "\n",
    "fig, ax = plt.subplots(subplot_kw={\"projection\": \"3d\"})\n",
    "\n",
    "# Make data.\n",
    "X = np.linspace(0, 3, 3)\n",
    "Y = np.linspace(0, 3, 3)\n",
    "X, Y = np.meshgrid(X, Y)\n",
    "R = np.sqrt(X**2 + Y**2)\n",
    "Z = np.sin(R)\n",
    "\n",
    "# Plot the surface.\n",
    "surf = ax.plot_surface(X, Y, Z, cmap=cm.coolwarm,\n",
    "                       linewidth=0, antialiased=False)\n",
    "\n",
    "# Customize the z axis.\n",
    "ax.set_zlim(-1.01, 1.01)\n",
    "ax.zaxis.set_major_locator(LinearLocator(10))\n",
    "# A StrMethodFormatter is used automatically\n",
    "ax.zaxis.set_major_formatter('{x:.02f}')\n",
    "\n",
    "# Add a color bar which maps values to colors.\n",
    "fig.colorbar(surf, shrink=0.5, aspect=5)\n",
    "\n",
    "plt.show()"
   ]
  },
  {
   "cell_type": "code",
   "execution_count": 532,
   "metadata": {},
   "outputs": [
    {
     "data": {
      "text/plain": [
       "array([[0. , 1.5, 3. ],\n",
       "       [0. , 1.5, 3. ],\n",
       "       [0. , 1.5, 3. ]])"
      ]
     },
     "execution_count": 532,
     "metadata": {},
     "output_type": "execute_result"
    }
   ],
   "source": [
    "X\n"
   ]
  },
  {
   "cell_type": "code",
   "execution_count": 533,
   "metadata": {},
   "outputs": [
    {
     "data": {
      "text/plain": [
       "array([[0. , 0. , 0. ],\n",
       "       [1.5, 1.5, 1.5],\n",
       "       [3. , 3. , 3. ]])"
      ]
     },
     "execution_count": 533,
     "metadata": {},
     "output_type": "execute_result"
    }
   ],
   "source": [
    "Y"
   ]
  },
  {
   "cell_type": "code",
   "execution_count": 534,
   "metadata": {},
   "outputs": [
    {
     "data": {
      "text/plain": [
       "array([[ 0.        ,  0.99749499,  0.14112001],\n",
       "       [ 0.99749499,  0.85225051, -0.21091343],\n",
       "       [ 0.14112001, -0.21091343, -0.89168225]])"
      ]
     },
     "execution_count": 534,
     "metadata": {},
     "output_type": "execute_result"
    }
   ],
   "source": [
    "Z"
   ]
  },
  {
   "cell_type": "code",
   "execution_count": 535,
   "metadata": {},
   "outputs": [
    {
     "data": {
      "text/plain": [
       "array([[ 0.        ,  0.99749499,  0.14112001],\n",
       "       [ 0.99749499,  0.85225051, -0.21091343],\n",
       "       [ 0.14112001, -0.21091343, -0.89168225]])"
      ]
     },
     "execution_count": 535,
     "metadata": {},
     "output_type": "execute_result"
    }
   ],
   "source": [
    "final_Z = []\n",
    "for col in range(Y.shape[1]):\n",
    "    row_Z = []\n",
    "    for row in range(X.shape[0]):\n",
    "        cur_x, cur_y = X[row][col], Y[row][col]\n",
    "        row_Z.append(np.sin(np.sqrt(cur_x**2+cur_y**2)))\n",
    "    final_Z.append(row_Z)\n",
    "np.array(final_Z)\n",
    "\n",
    "    "
   ]
  },
  {
   "cell_type": "code",
   "execution_count": null,
   "metadata": {},
   "outputs": [],
   "source": []
  }
 ],
 "metadata": {
  "interpreter": {
   "hash": "de9184fb1100b1b99a61021f59422ac28d78a243336732ae833608768c206ac0"
  },
  "kernelspec": {
   "display_name": "Python 3.9.7 ('base')",
   "language": "python",
   "name": "python3"
  },
  "language_info": {
   "codemirror_mode": {
    "name": "ipython",
    "version": 3
   },
   "file_extension": ".py",
   "mimetype": "text/x-python",
   "name": "python",
   "nbconvert_exporter": "python",
   "pygments_lexer": "ipython3",
   "version": "3.9.7"
  },
  "orig_nbformat": 4
 },
 "nbformat": 4,
 "nbformat_minor": 2
}
