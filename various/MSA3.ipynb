{
 "cells": [
  {
   "cell_type": "code",
   "execution_count": 1,
   "metadata": {},
   "outputs": [],
   "source": [
    "import numpy as np\n",
    "from itertools import permutations\n",
    "from copy import deepcopy"
   ]
  },
  {
   "cell_type": "code",
   "execution_count": 2,
   "metadata": {},
   "outputs": [],
   "source": [
    "### Hepler functions ###\n",
    "def fill_area(start_row, start_col, target, recipe, multiplier):\n",
    "    \"\"\" Hepler function for filling out subarea of target matrix \n",
    "        with content of recipe * multiplier\n",
    "    Args:\n",
    "        start_row : Integer = The beginning row index of area\n",
    "        start_col : Integer = The beginning col index of area\n",
    "        target    : 2D numpy array to be filled in subarea\n",
    "        recipe    : 2D numpy array that goes into subarea of target\n",
    "        multiplier: Float (possibly complex) multiplied onto all recipe vals\n",
    "    \"\"\"\n",
    "    row_counter = 0\n",
    "    for row in range(start_row,start_row + 2):\n",
    "        col_counter = 0\n",
    "        for col in range(start_col, start_col + 2):\n",
    "            target[row][col] = recipe[row_counter][col_counter] * multiplier\n",
    "            col_counter += 1\n",
    "        row_counter+=1\n",
    "\n",
    "def recursive_perm_scoring(mat, perms, test_mat, row_idx):\n",
    "    \"\"\"Computing all possibles alignment scores of MSA matrix; mat,\n",
    "       given the permutations for each of the N-1 rows of mat, (found in perms)\n",
    "    \n",
    "    Args:\n",
    "        mat     : 2D numpy array, e.g. array([['A', 'C', 'C', 'T'],\n",
    "                                              ['A', 'C', '_', '_'],\n",
    "                                              ['A', 'T', '_', '_']])\n",
    "        perms   : all distinct permutations of the N-1 last rows of mat\n",
    "        test_mat: matrix \n",
    "       \"\"\"\n",
    "    perm_history, score_history = [], []\n",
    "    if row_idx < mat.shape[0]:\n",
    "        for i in range(0 , len(perms[row_idx - 1])):\n",
    "            test_mat[row_idx,:] = perms[row_idx - 1][i]\n",
    "            score_list, perm_list = recursive_perm_scoring(mat, perms, test_mat, row_idx + 1)\n",
    "            perm_history += perm_list\n",
    "            score_history += score_list\n",
    "            current_score = 0\n",
    "            for j in range(0 , mat.shape[1]):\n",
    "                current_score += score_sequence(test_mat[:,j])\n",
    "            score_history.append(current_score)\n",
    "            perm_history.append(deepcopy(test_mat))\n",
    "    return score_history, perm_history"
   ]
  },
  {
   "cell_type": "code",
   "execution_count": 3,
   "metadata": {},
   "outputs": [],
   "source": [
    "### Main functions ###\n",
    "\n",
    "def score(n1,n2):\n",
    "    \"\"\" Function for computing the score of\n",
    "        some alignment of the two chars n1, n2\n",
    "    Args:\n",
    "        n1: any str in {\"_\",\"A\",\"T\",\"C\",\"G\"}\n",
    "        n2: any str in {\"_\",\"A\",\"T\",\"C\",\"G\"}\n",
    "    Returns:\n",
    "        score: int in {-1,0,1}\n",
    "    \"\"\"\n",
    "    score = None\n",
    "    gap = \"_\"\n",
    "    if   n1 == gap or n2 == gap: score =  0; return score\n",
    "    elif n1 == n2              : score = -1; return score\n",
    "    elif n1 != n2              : score =  1; return score\n",
    "\n",
    "def encode_score_weights(mat):\n",
    "    \"\"\"Encoding the score of all possible alignments\n",
    "        for all n1, n2 for all s1 < s2 score(n1,n2)\n",
    "\n",
    "    Args:\n",
    "        mat: 2D numpy array, e.g. array([['A', 'C', 'C', 'T'],\n",
    "                                         ['A', 'C', '_', '_'],\n",
    "                                         ['A', 'T', '_', '_']])   \n",
    "    Returns:\n",
    "        weight_matrices: 3D numpy array of shape (1/2 * (L - 1) * L , C , C)\n",
    "                         where L = nr. of rows and C = nr. of cols in\n",
    "                         matrix given\n",
    "    \"\"\"\n",
    "    L, C = mat.shape\n",
    "    weight_matrices = [np.zeros((C,C)) for i in range(int(1/2 * (L - 1) * L))]\n",
    "    for row1 in range(0 , mat.shape[0]):\n",
    "        for row2 in range(row1 + 1 , mat.shape[0]):\n",
    "            for idx1, n1 in enumerate(mat[row1,:]):\n",
    "                for idx2, n2 in enumerate(mat[row2,:]):\n",
    "                    weight_matrices[row1+row2-1][idx1][idx2] = score(n1,n2)\n",
    "    return np.array(weight_matrices)\n",
    "\n",
    "def matrix_2_bit_state(mat):\n",
    "    \"\"\"\n",
    "    Maps some given matrix repr. of a MSA to a corresponding\n",
    "    bitstring via the column encoding: x_(s,n,i) determines whether\n",
    "    the n'th letter of the s'th string is placed in the i'th column.\n",
    "\n",
    "    Args:\n",
    "        mat: 2D numpy array, e.g. array([['A', 'C', 'C', 'T'],\n",
    "                                         ['A', 'C', '_', '_'],\n",
    "                                         ['A', 'T', '_', '_']])\n",
    "    Returns:\n",
    "        numpy array containing bit repr., e.g.: np.array([1,0,0,1...])\n",
    "    \"\"\"\n",
    "    regs = []\n",
    "    gap = \"_\"\n",
    "    for row in range(my_mat.shape[0]):           # For each S\n",
    "        for col in range(my_mat.shape[1]):       # For each n\n",
    "            if my_mat[row][col] != gap:\n",
    "                current_reg = [] \n",
    "                for i in range(my_mat.shape[0]+1):     # for each i\n",
    "                    if i == col: current_reg.append(1)\n",
    "                    else:        current_reg.append(0)\n",
    "                regs.append(current_reg)\n",
    "    return np.array(regs).flatten()\n",
    "\n",
    "def bit_state_2_matrix(bit_string,init_mat):\n",
    "    \"\"\"\n",
    "    Maps some given bitstring repr. of a MSA to a corresponding\n",
    "    matrix via the initial matrix. \n",
    "\n",
    "    Args:\n",
    "        bit_string: numpy array containing bit repr., e.g.: np.array([1,0,0,1...])\n",
    "        mat       : 2D numpy array, e.g. array([['A', 'C', 'C', 'T'],\n",
    "                                                ['A', 'C', '_', '_'],\n",
    "                                                ['A', 'T', '_', '_']])\n",
    "    Returns:\n",
    "        2D numpy array, e.g. array([['A', 'C', 'C', 'T'],\n",
    "                                    ['A', 'C', '_', '_'],\n",
    "                                    ['A', 'T', '_', '_']])\n",
    "    \"\"\"\n",
    "    counts, gap = [], \"_\"\n",
    "    for row in range(init_mat.shape[0]):\n",
    "        current_count = 0\n",
    "        for col in range(init_mat.shape[1]):\n",
    "            if init_mat[row][col] != gap: current_count += 1\n",
    "        counts.append(current_count)\n",
    "\n",
    "    lower = 0\n",
    "    multiplier, regs = init_mat.shape[1], []\n",
    "    for value in counts:\n",
    "        for i in range(value):\n",
    "            regs.append(bit_string[lower + i * multiplier : lower + (i + 1) * multiplier])\n",
    "        lower += value * multiplier\n",
    "\n",
    "    counter = 0\n",
    "    new_mat = np.zeros((init_mat.shape),dtype=object)\n",
    "    for row in range(init_mat.shape[0]):\n",
    "        for col in range(init_mat.shape[1]):\n",
    "            if init_mat[row][col] != gap:\n",
    "                col_index = np.where(regs[counter] == 1)[0][0]\n",
    "                new_mat[row][col_index] = init_mat[row][col]\n",
    "                counter += 1\n",
    "            else: new_mat[row][col] = gap\n",
    "\n",
    "    return new_mat\n",
    "\n",
    "\n",
    "def tensor_state(str):\n",
    "    \"\"\" Creates a numpy vector representation of a tensor\n",
    "    product state consisting of |0> 's and |1> 's\n",
    "\n",
    "    Args:\n",
    "        string of zeros and ones, e.g. '10'\n",
    "\n",
    "    Returns:\n",
    "        np.array([0,1,0,0,...])\n",
    "    \"\"\"\n",
    "    zero, one = np.array([1,0]), np.array([0,1])\n",
    "    basis_objects = [zero,one]\n",
    "    objects = []\n",
    "    objects.append(basis_objects[int(str[-1])])\n",
    "\n",
    "    for idx in range(0 , len(str) - 1):\n",
    "        current_object = np.zeros(2**(idx+2))\n",
    "        counter = 0\n",
    "        for i in range(2):\n",
    "            for j in range(len(objects[-1])):\n",
    "                current_object[counter] = objects[-1][j] * basis_objects[int(str[idx])][i]\n",
    "                counter += 1\n",
    "        objects.append(current_object)\n",
    "    return objects[-1]\n",
    "\n",
    "\n",
    "def multiple_matrix_tensor(string):\n",
    "    \"\"\" Creates series of tensor product of square matrix repr.\n",
    "    of multiple pauli operators \n",
    "\n",
    "    Args:\n",
    "        string: A string representation of the pauli operators\n",
    "                where X = Pauli_X, Y = Pauli_Y, Z = Pauli_Z, I = identity\n",
    "    \n",
    "    Returns:\n",
    "        2D numpy array corresponding to matrix repr. of tensor product\n",
    "    \"\"\"\n",
    "    complex_vals = False\n",
    "    for str in string:\n",
    "        if str == \"Y\": complex_vals = True\n",
    "\n",
    "    sigma_x, sigma_y, sigma_z = np.array([[0,1],[1,0]]),np.array([[0,-1j],[1j,0]]),np.array([[1,0],[0,-1]])\n",
    "    identity = np.identity(2)\n",
    "    basis_map = {\"X\":sigma_x,\"Y\":sigma_y,\"Z\":sigma_z,\"I\":identity}\n",
    "\n",
    "    objects = []\n",
    "    objects.append(basis_map[string[0]])\n",
    "    for idx in range(0 , len(string) - 1):\n",
    "        if complex_vals:\n",
    "            current_object = np.zeros((2 ** (idx+2) , 2 ** (idx+2)),dtype=complex)\n",
    "        else:\n",
    "            current_object = np.zeros((2 ** (idx+2) , 2 ** (idx+2)))\n",
    "        row_counter = 0\n",
    "        for i in range(int(current_object.shape[0] / 2)):\n",
    "            col_counter = 0\n",
    "            for j in range(int(current_object.shape[0] / 2)):\n",
    "                if objects[-1][i][j] == 1:\n",
    "                    fill_area(row_counter,col_counter,current_object,basis_map[string[idx+1]],1)\n",
    "                elif objects[-1][i][j] == -1:\n",
    "                    fill_area(row_counter,col_counter,current_object,basis_map[string[idx+1]],-1)\n",
    "                elif objects[-1][i][j] == 1j:\n",
    "                    fill_area(row_counter,col_counter,current_object,basis_map[string[idx+1]],1j)\n",
    "                elif objects[-1][i][j] == -1j:\n",
    "                    fill_area(row_counter,col_counter,current_object,basis_map[string[idx+1]],-1j)\n",
    "                col_counter += 2\n",
    "            row_counter += 2                \n",
    "        objects.append(current_object)\n",
    "    return objects[-1]\n",
    "\n",
    "\n",
    "def initial_MSA_matrix(strings):\n",
    "    \"\"\" Creating a matrix representation of the strings given\n",
    "    and filling gaps with \"_\"\n",
    "\n",
    "    Args:\n",
    "        list of strings, e.g. [\"ACCT\",\"AC\",\"AT\"]\n",
    "\n",
    "    Returns:\n",
    "        2D numpy array\n",
    "    \"\"\"\n",
    "    lengths = [len(str) for str in strings]\n",
    "    initial_matrix = np.zeros((len(strings) , np.max(lengths)),dtype=object)\n",
    "    for row in range(initial_matrix.shape[0]):\n",
    "        for col in range(len(strings[row])):\n",
    "            initial_matrix[row][col] = strings[row][col]\n",
    "    initial_matrix[initial_matrix == 0] = \"_\"\n",
    "    return initial_matrix\n",
    "\n",
    "def MSA_binary_matrix(matrix):\n",
    "    \"\"\" Mapping matrix of alphabet strings to \n",
    "    corresponding binary strings \n",
    "    \n",
    "    Args:\n",
    "        2D numpy array, e.g. array([['A', 'C', 'C', 'T'],\n",
    "                                    ['A', 'C', '_', '_'],\n",
    "                                    ['A', 'T', '_', '_']])\n",
    "    Returns:\n",
    "        Corresponding mapped 2D numpy array\n",
    "    \"\"\"\n",
    "    alphabet_dict = {\"_\":'000',\"A\":'001',\"C\":'010',\"T\":'011',\"G\":'100'}\n",
    "    resulting_matrix = np.zeros(matrix.shape,dtype=object)\n",
    "    for row in range(matrix.shape[0]):\n",
    "        for col in range(matrix.shape[1]):\n",
    "            binary = alphabet_dict[matrix[row][col]]\n",
    "            resulting_matrix[row][col] = binary\n",
    "    return resulting_matrix\n",
    "\n",
    "def hamming_distance(state1,state2):\n",
    "    \"\"\"Calculates the hamming distance between \n",
    "    state1 and state2 \n",
    "\n",
    "    Args:\n",
    "        state1: string repr. of tensor state, e.g. \"001\" or \"111\" or ...\n",
    "        state2: string repr. of tensor state, e.g. \"001\" or \"111\" or ...\n",
    "    Returns:\n",
    "        dist: integer score equivalent to number of differing characters\n",
    "    \"\"\"\n",
    "    dist = 0\n",
    "    for i in range(0 , len(state1)):\n",
    "        if state1[i] != state2[i]: dist += 1\n",
    "    return dist \n",
    "\n",
    "\n",
    "def legal_permutations(arr): \n",
    "    \"\"\" Function for computing all permutations of array\n",
    "    of type [\"A\",\"C\",\"_\",\"T\",\"_\"] that maintains original\n",
    "    order of characters != \"_\" .\n",
    "\n",
    "    Args:\n",
    "        arr: numpy array, e.g.: np.array([\"A\",\"C\",\"_\",\"T\",\"_\"])\n",
    "    Returns:\n",
    "        2D numpy array of legal permutations, e.g.: np.array([[\"A\",\"C\",\"_\",\"T\",\"_\"],\n",
    "                                                              [\"A\",\"C\",\"_\",\"_\",\"T\"],...])\n",
    "\n",
    "    \"\"\"\n",
    "    legal_perm_indices = []\n",
    "    letter_order = [char for char in arr if char != \"_\"]\n",
    "    perms = list(set(permutations(arr))) # Using set to remove dubs\n",
    "    perms = [list(perm) for perm in perms]\n",
    "    for idx, perm in enumerate(perms):\n",
    "        letter_counter = 0\n",
    "        keep_perm = True\n",
    "        for letter in perm:\n",
    "            if letter != \"_\":\n",
    "                if letter_order[letter_counter] != letter:\n",
    "                    keep_perm = False\n",
    "                else: letter_counter += 1\n",
    "        if keep_perm: legal_perm_indices.append(idx)\n",
    "    return np.array(perms)[legal_perm_indices]\n",
    "\n",
    "\n",
    "def score_sequence(arr):\n",
    "    \"\"\"Function for computing sum-of-pairs score\n",
    "       according to scheme defined in \n",
    "       score function. \n",
    "    Args:\n",
    "        arr: numpy array, e.g.: np.array([\"A\",\"C\",\"_\",\"T\",\"_\"])\n",
    "    Returns:\n",
    "        final_score: integer \n",
    "       \"\"\"\n",
    "    final_score = 0\n",
    "    for n1 in range(0 , len(arr)):\n",
    "        for n2 in range(n1 + 1 , len(arr)):\n",
    "            final_score += score(arr[n1],arr[n2])\n",
    "    return final_score\n",
    "\n",
    "def fixed_brute_force(init_mat):\n",
    "    \"\"\" Initial version of brute force scoring of all relevant\n",
    "    permutations of MSA matrix (Only works for 3xN sized matrix).\n",
    "    Make sure the longest row containin  only letters are initially \n",
    "    placed at top of matrix.\n",
    "    \n",
    "    Args:\n",
    "        Init_mat: 2D numpy array, e.g. array([['A', 'C', 'C', 'T'],\n",
    "                                              ['A', 'C', '_', '_'],\n",
    "                                              ['A', 'T', '_', '_']])\n",
    "    Returns:\n",
    "        best_score: Integer\n",
    "        best perms: list of corresponding permutations of MSA matrix\n",
    "    \"\"\"\n",
    "    perms = []\n",
    "    for row_idx in range(1 , init_mat.shape[0]):\n",
    "        perms.append(legal_permutations(init_mat[row_idx,:]))\n",
    "    test_mat = np.zeros((init_mat.shape),dtype=object)\n",
    "    test_mat[0,:] = init_mat[0,:]\n",
    "    mat_history   = []\n",
    "    score_history = []\n",
    "    for row_idx_1 in range(1 , test_mat.shape[0]):\n",
    "        for perm_1 in range(0 , len(perms[row_idx_1 - 1])):\n",
    "            test_mat[row_idx_1,:] = perms[row_idx_1 - 1][perm_1]\n",
    "            for row_idx_2 in range(row_idx_1 + 1 , test_mat.shape[0]):\n",
    "                for perm_2 in range(0 , len(perms[row_idx_2 - 1])):\n",
    "                    test_mat[row_idx_2,:] = perms[row_idx_2 - 1][perm_2]\n",
    "                    current_perm_score = 0\n",
    "                    for col in range(0 , test_mat.shape[1]):\n",
    "                        current_perm_score += score_sequence(test_mat[:,col])\n",
    "                    mat_history.append(deepcopy(test_mat))\n",
    "                    score_history.append(current_perm_score)\n",
    "    best_score = np.min(score_history)\n",
    "    best_perms = [mat_history[i] for i in range(len(mat_history)) if score_history[i] == best_score]\n",
    "    return best_score, best_perms\n",
    "\n",
    "\n",
    "\n",
    "    \n",
    "def recursive_brute_force(init_mat):\n",
    "    \"\"\" Final recursive version of brute force scoring of all relevant\n",
    "    permutations of variable sized MSA matrix. \n",
    "    (Make sure the longest row containin only letters are\n",
    "     initially placed at top of matrix)\n",
    "     \n",
    "    Args:\n",
    "        Init_mat: 2D numpy array, e.g. array([['A', 'C', 'C', 'T'],\n",
    "                                              ['A', 'C', '_', '_'],\n",
    "                                              ['A', 'T', '_', '_']])\n",
    "    Returns:\n",
    "        best_score: Integer\n",
    "        best perms: list of corresponding permutations of MSA matrix\n",
    "    \"\"\"\n",
    "    perms = np.array([list(set(permutations(init_mat[i]))) for i in range(1,len(init_mat))])\n",
    "    test_mat = np.zeros((init_mat.shape) , dtype=object)\n",
    "    test_mat[0,:] = init_mat[0,:]\n",
    "    score_history, mat_history = recursive_perm_scoring(init_mat,perms,test_mat,1)\n",
    "    best_score = np.min(score_history)\n",
    "    best_perms = [mat_history[i] for i in range(len(mat_history)) if score_history[i] == best_score]\n",
    "    return best_score, best_perms\n",
    "\n",
    "\n",
    "\n",
    "    "
   ]
  },
  {
   "cell_type": "code",
   "execution_count": 4,
   "metadata": {},
   "outputs": [
    {
     "data": {
      "text/plain": [
       "array([['A', 'C', 'C', 'T'],\n",
       "       ['A', 'C', '_', '_'],\n",
       "       ['A', 'T', '_', '_']], dtype=object)"
      ]
     },
     "execution_count": 4,
     "metadata": {},
     "output_type": "execute_result"
    }
   ],
   "source": [
    "initial_strings = [\"ACCT\",\"AC\",\"AT\"]\n",
    "my_mat = initial_MSA_matrix(initial_strings)\n",
    "my_mat"
   ]
  },
  {
   "cell_type": "code",
   "execution_count": 5,
   "metadata": {},
   "outputs": [
    {
     "data": {
      "text/plain": [
       "(-5,\n",
       " [array([['A', 'C', 'C', 'T'],\n",
       "         ['A', '_', 'C', '_'],\n",
       "         ['A', '_', '_', 'T']], dtype=object),\n",
       "  array([['A', 'C', 'C', 'T'],\n",
       "         ['A', 'C', '_', '_'],\n",
       "         ['A', '_', '_', 'T']], dtype=object)])"
      ]
     },
     "execution_count": 5,
     "metadata": {},
     "output_type": "execute_result"
    }
   ],
   "source": [
    "fixed_brute_force(my_mat)"
   ]
  },
  {
   "cell_type": "code",
   "execution_count": 6,
   "metadata": {},
   "outputs": [
    {
     "data": {
      "text/plain": [
       "(-5,\n",
       " [array([['A', 'C', 'C', 'T'],\n",
       "         ['A', '_', 'C', '_'],\n",
       "         ['A', '_', '_', 'T']], dtype=object),\n",
       "  array([['A', 'C', 'C', 'T'],\n",
       "         ['A', 'C', '_', '_'],\n",
       "         ['A', '_', '_', 'T']], dtype=object)])"
      ]
     },
     "execution_count": 6,
     "metadata": {},
     "output_type": "execute_result"
    }
   ],
   "source": [
    "recursive_brute_force(my_mat)"
   ]
  },
  {
   "cell_type": "code",
   "execution_count": 7,
   "metadata": {},
   "outputs": [
    {
     "data": {
      "text/plain": [
       "array([['001', '010', '010', '011'],\n",
       "       ['001', '010', '000', '000'],\n",
       "       ['001', '011', '000', '000']], dtype=object)"
      ]
     },
     "execution_count": 7,
     "metadata": {},
     "output_type": "execute_result"
    }
   ],
   "source": [
    "binary_repr = MSA_binary_matrix(my_mat)\n",
    "binary_repr"
   ]
  },
  {
   "cell_type": "code",
   "execution_count": 8,
   "metadata": {},
   "outputs": [
    {
     "data": {
      "text/plain": [
       "'001'"
      ]
     },
     "execution_count": 8,
     "metadata": {},
     "output_type": "execute_result"
    }
   ],
   "source": [
    "some_state = binary_repr[0][0]\n",
    "some_state"
   ]
  },
  {
   "cell_type": "code",
   "execution_count": 9,
   "metadata": {},
   "outputs": [
    {
     "data": {
      "text/plain": [
       "array([0., 1., 0., 0., 0., 0., 0., 0.])"
      ]
     },
     "execution_count": 9,
     "metadata": {},
     "output_type": "execute_result"
    }
   ],
   "source": [
    "tensor_state(some_state)"
   ]
  },
  {
   "cell_type": "code",
   "execution_count": 10,
   "metadata": {},
   "outputs": [
    {
     "data": {
      "text/plain": [
       "array([[ 0.,  1.,  0.,  0.,  0.,  0.,  0.,  0.],\n",
       "       [ 1.,  0.,  0.,  0.,  0.,  0.,  0.,  0.],\n",
       "       [ 0.,  0.,  0., -1.,  0.,  0.,  0.,  0.],\n",
       "       [ 0.,  0., -1.,  0.,  0.,  0.,  0.,  0.],\n",
       "       [ 0.,  0.,  0.,  0.,  0., -1.,  0.,  0.],\n",
       "       [ 0.,  0.,  0.,  0., -1.,  0.,  0.,  0.],\n",
       "       [ 0.,  0.,  0.,  0.,  0.,  0.,  0.,  1.],\n",
       "       [ 0.,  0.,  0.,  0.,  0.,  0.,  1.,  0.]])"
      ]
     },
     "execution_count": 10,
     "metadata": {},
     "output_type": "execute_result"
    }
   ],
   "source": [
    "multiple_matrix_tensor(\"ZZX\")"
   ]
  },
  {
   "cell_type": "code",
   "execution_count": 11,
   "metadata": {},
   "outputs": [
    {
     "data": {
      "text/plain": [
       "array([['A', 'C', 'C', 'T'],\n",
       "       ['A', 'C', '_', '_'],\n",
       "       ['A', 'T', '_', '_']], dtype=object)"
      ]
     },
     "execution_count": 11,
     "metadata": {},
     "output_type": "execute_result"
    }
   ],
   "source": [
    "initial_strings = [\"ACCT\",\"AC\",\"AT\"]\n",
    "my_mat = initial_MSA_matrix(initial_strings)\n",
    "my_mat"
   ]
  },
  {
   "cell_type": "code",
   "execution_count": 12,
   "metadata": {},
   "outputs": [
    {
     "data": {
      "text/plain": [
       "array([['A', 'C', 'C', 'T'],\n",
       "       ['A', 'C', '_', '_'],\n",
       "       ['A', 'T', '_', '_']], dtype=object)"
      ]
     },
     "execution_count": 12,
     "metadata": {},
     "output_type": "execute_result"
    }
   ],
   "source": [
    "init_mat = my_mat\n",
    "init_mat"
   ]
  },
  {
   "cell_type": "code",
   "execution_count": 13,
   "metadata": {},
   "outputs": [
    {
     "data": {
      "text/plain": [
       "array([1, 0, 0, 0, 0, 1, 0, 0, 0, 0, 1, 0, 0, 0, 0, 1, 1, 0, 0, 0, 0, 1,\n",
       "       0, 0, 1, 0, 0, 0, 0, 1, 0, 0])"
      ]
     },
     "execution_count": 13,
     "metadata": {},
     "output_type": "execute_result"
    }
   ],
   "source": [
    "bit_string = matrix_2_bit_state(init_mat)\n",
    "bit_string"
   ]
  },
  {
   "cell_type": "code",
   "execution_count": 14,
   "metadata": {},
   "outputs": [
    {
     "data": {
      "text/plain": [
       "array([['A', 'C', 'C', 'T'],\n",
       "       ['A', 'C', '_', '_'],\n",
       "       ['A', 'T', '_', '_']], dtype=object)"
      ]
     },
     "execution_count": 14,
     "metadata": {},
     "output_type": "execute_result"
    }
   ],
   "source": [
    "new_mat = bit_state_2_matrix(bit_string,init_mat)\n",
    "new_mat"
   ]
  },
  {
   "cell_type": "code",
   "execution_count": 15,
   "metadata": {},
   "outputs": [
    {
     "data": {
      "text/plain": [
       "array([[[-1.,  1.,  0.,  0.],\n",
       "        [ 1., -1.,  0.,  0.],\n",
       "        [ 1., -1.,  0.,  0.],\n",
       "        [ 1.,  1.,  0.,  0.]],\n",
       "\n",
       "       [[-1.,  1.,  0.,  0.],\n",
       "        [ 1.,  1.,  0.,  0.],\n",
       "        [ 1.,  1.,  0.,  0.],\n",
       "        [ 1., -1.,  0.,  0.]],\n",
       "\n",
       "       [[-1.,  1.,  0.,  0.],\n",
       "        [ 1.,  1.,  0.,  0.],\n",
       "        [ 0.,  0.,  0.,  0.],\n",
       "        [ 0.,  0.,  0.,  0.]]])"
      ]
     },
     "execution_count": 15,
     "metadata": {},
     "output_type": "execute_result"
    }
   ],
   "source": [
    "encode_score_weights(new_mat)"
   ]
  }
 ],
 "metadata": {
  "interpreter": {
   "hash": "de9184fb1100b1b99a61021f59422ac28d78a243336732ae833608768c206ac0"
  },
  "kernelspec": {
   "display_name": "Python 3.9.7 ('base')",
   "language": "python",
   "name": "python3"
  },
  "language_info": {
   "codemirror_mode": {
    "name": "ipython",
    "version": 3
   },
   "file_extension": ".py",
   "mimetype": "text/x-python",
   "name": "python",
   "nbconvert_exporter": "python",
   "pygments_lexer": "ipython3",
   "version": "3.9.7"
  },
  "orig_nbformat": 4
 },
 "nbformat": 4,
 "nbformat_minor": 2
}
