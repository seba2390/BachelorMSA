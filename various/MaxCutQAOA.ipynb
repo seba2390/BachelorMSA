{
 "cells": [
  {
   "cell_type": "code",
   "execution_count": 11,
   "metadata": {},
   "outputs": [],
   "source": [
    "from qiskit import QuantumCircuit, ClassicalRegister, QuantumRegister\n",
    "from qiskit import Aer, execute\n",
    "from qiskit.circuit import Parameter\n",
    "import networkx as nx\n"
   ]
  },
  {
   "cell_type": "markdown",
   "metadata": {},
   "source": [
    "Defining some graph"
   ]
  },
  {
   "cell_type": "code",
   "execution_count": 12,
   "metadata": {},
   "outputs": [
    {
     "data": {
      "image/png": "[encoded data removed]",
      "text/plain": [
       "<Figure size 432x288 with 1 Axes>"
      ]
     },
     "metadata": {},
     "output_type": "display_data"
    }
   ],
   "source": [
    "G = nx.Graph()\n",
    "G.add_nodes_from([0, 1, 2, 3])\n",
    "G.add_edges_from([(0, 1), (1, 2), (2, 3), (3, 0)])\n",
    "nx.draw(G, with_labels=True, alpha=0.8, node_size=500)"
   ]
  },
  {
   "cell_type": "markdown",
   "metadata": {},
   "source": [
    "# Mixing unitary\n",
    "Defining quantum circuit with 4 qbits and adding: $$R_x(2\\beta)=e^{-i\\beta\\hat{\\sigma}_x}=\\begin{pmatrix}cos(\\beta)  -sin(\\beta) \\\\ -isin(\\beta)cos(\\beta)\\end{pmatrix},\\quad\\quad \\hat{\\sigma}_x=\\begin{pmatrix}0\\,1\\\\1\\,0\\end{pmatrix}$$ to each"
   ]
  },
  {
   "cell_type": "code",
   "execution_count": 13,
   "metadata": {},
   "outputs": [
    {
     "data": {
      "text/html": [
       "<pre style=\"word-wrap: normal;white-space: pre;background: #fff0;line-height: 1.1;font-family: &quot;Courier New&quot;,Courier,monospace\">     ┌─────────────┐\n",
       "q_0: ┤ Rx(2*\\beta) ├\n",
       "     ├─────────────┤\n",
       "q_1: ┤ Rx(2*\\beta) ├\n",
       "     ├─────────────┤\n",
       "q_2: ┤ Rx(2*\\beta) ├\n",
       "     ├─────────────┤\n",
       "q_3: ┤ Rx(2*\\beta) ├\n",
       "     └─────────────┘</pre>"
      ],
      "text/plain": [
       "     ┌─────────────┐\n",
       "q_0: ┤ Rx(2*\\beta) ├\n",
       "     ├─────────────┤\n",
       "q_1: ┤ Rx(2*\\beta) ├\n",
       "     ├─────────────┤\n",
       "q_2: ┤ Rx(2*\\beta) ├\n",
       "     ├─────────────┤\n",
       "q_3: ┤ Rx(2*\\beta) ├\n",
       "     └─────────────┘"
      ]
     },
     "execution_count": 13,
     "metadata": {},
     "output_type": "execute_result"
    }
   ],
   "source": [
    "# Adjacency is essentially a matrix which tells you which nodes are\n",
    "# connected. This matrix is given as a sparse matrix, so we need to\n",
    "# convert it to a dense matrix\n",
    "#adjacency = nx.adjacency_matrix(G).todense()\n",
    "\n",
    "nqubits = 4\n",
    "\n",
    "beta = Parameter(r'\\beta')\n",
    "qc_mix = QuantumCircuit(nqubits)\n",
    "for i in range(0, nqubits):\n",
    "    qc_mix.rx(2 * beta, i)\n",
    "    \n",
    "qc_mix.draw()"
   ]
  },
  {
   "cell_type": "markdown",
   "metadata": {},
   "source": [
    "# Problem unitary\n",
    "Defining another quantum circuit, adding 4 qbits and adding $$e^{-i\\gamma\\hat{\\sigma}_{z,i}\\hat{\\sigma}_{z,j}},\\quad\\quad\\hat{\\sigma}_z=\\begin{pmatrix}1\\,0\\\\0\\,-1\\end{pmatrix}$$"
   ]
  },
  {
   "cell_type": "code",
   "execution_count": 14,
   "metadata": {},
   "outputs": [
    {
     "data": {
      "text/html": [
       "<pre style=\"word-wrap: normal;white-space: pre;background: #fff0;line-height: 1.1;font-family: &quot;Courier New&quot;,Courier,monospace\">                                  ░                              ░      »\n",
       "q_0: ──■──────────────────────■───░───■──────────────────────■───░──────»\n",
       "     ┌─┴─┐┌────────────────┐┌─┴─┐ ░   │                      │   ░      »\n",
       "q_1: ┤ X ├┤ Rz(2*$\\gamma$) ├┤ X ├─░───┼──────────────────────┼───░───■──»\n",
       "     └───┘└────────────────┘└───┘ ░   │                      │   ░ ┌─┴─┐»\n",
       "q_2: ─────────────────────────────░───┼──────────────────────┼───░─┤ X ├»\n",
       "                                  ░ ┌─┴─┐┌────────────────┐┌─┴─┐ ░ └───┘»\n",
       "q_3: ─────────────────────────────░─┤ X ├┤ Rz(2*$\\gamma$) ├┤ X ├─░──────»\n",
       "                                  ░ └───┘└────────────────┘└───┘ ░      »\n",
       "«                             ░                              ░ \n",
       "«q_0: ────────────────────────░──────────────────────────────░─\n",
       "«                             ░                              ░ \n",
       "«q_1: ────────────────────■───░──────────────────────────────░─\n",
       "«     ┌────────────────┐┌─┴─┐ ░                              ░ \n",
       "«q_2: ┤ Rz(2*$\\gamma$) ├┤ X ├─░───■──────────────────────■───░─\n",
       "«     └────────────────┘└───┘ ░ ┌─┴─┐┌────────────────┐┌─┴─┐ ░ \n",
       "«q_3: ────────────────────────░─┤ X ├┤ Rz(2*$\\gamma$) ├┤ X ├─░─\n",
       "«                             ░ └───┘└────────────────┘└───┘ ░ </pre>"
      ],
      "text/plain": [
       "                                  ░                              ░      »\n",
       "q_0: ──■──────────────────────■───░───■──────────────────────■───░──────»\n",
       "     ┌─┴─┐┌────────────────┐┌─┴─┐ ░   │                      │   ░      »\n",
       "q_1: ┤ X ├┤ Rz(2*$\\gamma$) ├┤ X ├─░───┼──────────────────────┼───░───■──»\n",
       "     └───┘└────────────────┘└───┘ ░   │                      │   ░ ┌─┴─┐»\n",
       "q_2: ─────────────────────────────░───┼──────────────────────┼───░─┤ X ├»\n",
       "                                  ░ ┌─┴─┐┌────────────────┐┌─┴─┐ ░ └───┘»\n",
       "q_3: ─────────────────────────────░─┤ X ├┤ Rz(2*$\\gamma$) ├┤ X ├─░──────»\n",
       "                                  ░ └───┘└────────────────┘└───┘ ░      »\n",
       "«                             ░                              ░ \n",
       "«q_0: ────────────────────────░──────────────────────────────░─\n",
       "«                             ░                              ░ \n",
       "«q_1: ────────────────────■───░──────────────────────────────░─\n",
       "«     ┌────────────────┐┌─┴─┐ ░                              ░ \n",
       "«q_2: ┤ Rz(2*$\\gamma$) ├┤ X ├─░───■──────────────────────■───░─\n",
       "«     └────────────────┘└───┘ ░ ┌─┴─┐┌────────────────┐┌─┴─┐ ░ \n",
       "«q_3: ────────────────────────░─┤ X ├┤ Rz(2*$\\gamma$) ├┤ X ├─░─\n",
       "«                             ░ └───┘└────────────────┘└───┘ ░ "
      ]
     },
     "execution_count": 14,
     "metadata": {},
     "output_type": "execute_result"
    }
   ],
   "source": [
    "gamma = Parameter(\"$\\\\gamma$\")\n",
    "qc_p = QuantumCircuit(nqubits)\n",
    "for pair in list(G.edges()):  # pairs of nodes\n",
    "    qc_p.rzz(2 * gamma, pair[0], pair[1])\n",
    "    qc_p.barrier()\n",
    "    \n",
    "qc_p.decompose().draw()"
   ]
  },
  {
   "cell_type": "markdown",
   "metadata": {},
   "source": [
    "# Initial state\n",
    "Preparing inital state in equal superposition "
   ]
  },
  {
   "cell_type": "code",
   "execution_count": 15,
   "metadata": {},
   "outputs": [
    {
     "data": {
      "text/html": [
       "<pre style=\"word-wrap: normal;white-space: pre;background: #fff0;line-height: 1.1;font-family: &quot;Courier New&quot;,Courier,monospace\">     ┌───┐\n",
       "q_0: ┤ H ├\n",
       "     ├───┤\n",
       "q_1: ┤ H ├\n",
       "     ├───┤\n",
       "q_2: ┤ H ├\n",
       "     ├───┤\n",
       "q_3: ┤ H ├\n",
       "     └───┘</pre>"
      ],
      "text/plain": [
       "     ┌───┐\n",
       "q_0: ┤ H ├\n",
       "     ├───┤\n",
       "q_1: ┤ H ├\n",
       "     ├───┤\n",
       "q_2: ┤ H ├\n",
       "     ├───┤\n",
       "q_3: ┤ H ├\n",
       "     └───┘"
      ]
     },
     "execution_count": 15,
     "metadata": {},
     "output_type": "execute_result"
    }
   ],
   "source": [
    "qc_0 = QuantumCircuit(nqubits)\n",
    "for i in range(0, nqubits):\n",
    "    qc_0.h(i)\n",
    "    \n",
    "qc_0.draw()"
   ]
  },
  {
   "cell_type": "markdown",
   "metadata": {},
   "source": [
    "# Assembling entire QAOA\n"
   ]
  },
  {
   "cell_type": "code",
   "execution_count": 16,
   "metadata": {},
   "outputs": [
    {
     "data": {
      "text/html": [
       "<pre style=\"word-wrap: normal;white-space: pre;background: #fff0;line-height: 1.1;font-family: &quot;Courier New&quot;,Courier,monospace\">     ┌─────────┐┌──────────────┐                             ░      »\n",
       "q_0: ┤ U2(0,π) ├┤ R(2*\\beta,0) ├──■──────────────────────■───░───■──»\n",
       "     ├─────────┤├──────────────┤┌─┴─┐┌────────────────┐┌─┴─┐ ░   │  »\n",
       "q_1: ┤ U2(0,π) ├┤ R(2*\\beta,0) ├┤ X ├┤ Rz(2*$\\gamma$) ├┤ X ├─░───┼──»\n",
       "     ├─────────┤├──────────────┤└───┘└────────────────┘└───┘ ░   │  »\n",
       "q_2: ┤ U2(0,π) ├┤ R(2*\\beta,0) ├─────────────────────────────░───┼──»\n",
       "     ├─────────┤├──────────────┤                             ░ ┌─┴─┐»\n",
       "q_3: ┤ U2(0,π) ├┤ R(2*\\beta,0) ├─────────────────────────────░─┤ X ├»\n",
       "     └─────────┘└──────────────┘                             ░ └───┘»\n",
       "«                             ░                              ░      »\n",
       "«q_0: ────────────────────■───░──────────────────────────────░──────»\n",
       "«                         │   ░                              ░      »\n",
       "«q_1: ────────────────────┼───░───■──────────────────────■───░──────»\n",
       "«                         │   ░ ┌─┴─┐┌────────────────┐┌─┴─┐ ░      »\n",
       "«q_2: ────────────────────┼───░─┤ X ├┤ Rz(2*$\\gamma$) ├┤ X ├─░───■──»\n",
       "«     ┌────────────────┐┌─┴─┐ ░ └───┘└────────────────┘└───┘ ░ ┌─┴─┐»\n",
       "«q_3: ┤ Rz(2*$\\gamma$) ├┤ X ├─░──────────────────────────────░─┤ X ├»\n",
       "«     └────────────────┘└───┘ ░                              ░ └───┘»\n",
       "«                             ░ \n",
       "«q_0: ────────────────────────░─\n",
       "«                             ░ \n",
       "«q_1: ────────────────────────░─\n",
       "«                             ░ \n",
       "«q_2: ────────────────────■───░─\n",
       "«     ┌────────────────┐┌─┴─┐ ░ \n",
       "«q_3: ┤ Rz(2*$\\gamma$) ├┤ X ├─░─\n",
       "«     └────────────────┘└───┘ ░ </pre>"
      ],
      "text/plain": [
       "     ┌─────────┐┌──────────────┐                             ░      »\n",
       "q_0: ┤ U2(0,π) ├┤ R(2*\\beta,0) ├──■──────────────────────■───░───■──»\n",
       "     ├─────────┤├──────────────┤┌─┴─┐┌────────────────┐┌─┴─┐ ░   │  »\n",
       "q_1: ┤ U2(0,π) ├┤ R(2*\\beta,0) ├┤ X ├┤ Rz(2*$\\gamma$) ├┤ X ├─░───┼──»\n",
       "     ├─────────┤├──────────────┤└───┘└────────────────┘└───┘ ░   │  »\n",
       "q_2: ┤ U2(0,π) ├┤ R(2*\\beta,0) ├─────────────────────────────░───┼──»\n",
       "     ├─────────┤├──────────────┤                             ░ ┌─┴─┐»\n",
       "q_3: ┤ U2(0,π) ├┤ R(2*\\beta,0) ├─────────────────────────────░─┤ X ├»\n",
       "     └─────────┘└──────────────┘                             ░ └───┘»\n",
       "«                             ░                              ░      »\n",
       "«q_0: ────────────────────■───░──────────────────────────────░──────»\n",
       "«                         │   ░                              ░      »\n",
       "«q_1: ────────────────────┼───░───■──────────────────────■───░──────»\n",
       "«                         │   ░ ┌─┴─┐┌────────────────┐┌─┴─┐ ░      »\n",
       "«q_2: ────────────────────┼───░─┤ X ├┤ Rz(2*$\\gamma$) ├┤ X ├─░───■──»\n",
       "«     ┌────────────────┐┌─┴─┐ ░ └───┘└────────────────┘└───┘ ░ ┌─┴─┐»\n",
       "«q_3: ┤ Rz(2*$\\gamma$) ├┤ X ├─░──────────────────────────────░─┤ X ├»\n",
       "«     └────────────────┘└───┘ ░                              ░ └───┘»\n",
       "«                             ░ \n",
       "«q_0: ────────────────────────░─\n",
       "«                             ░ \n",
       "«q_1: ────────────────────────░─\n",
       "«                             ░ \n",
       "«q_2: ────────────────────■───░─\n",
       "«     ┌────────────────┐┌─┴─┐ ░ \n",
       "«q_3: ┤ Rz(2*$\\gamma$) ├┤ X ├─░─\n",
       "«     └────────────────┘└───┘ ░ "
      ]
     },
     "execution_count": 16,
     "metadata": {},
     "output_type": "execute_result"
    }
   ],
   "source": [
    "qc_qaoa = QuantumCircuit(nqubits)\n",
    "\n",
    "qc_qaoa.append(qc_0, [i for i in range(0, nqubits)])\n",
    "qc_qaoa.append(qc_mix, [i for i in range(0, nqubits)])\n",
    "qc_qaoa.append(qc_p, [i for i in range(0, nqubits)])\n",
    "\n",
    "qc_qaoa.decompose().decompose().draw()"
   ]
  },
  {
   "cell_type": "code",
   "execution_count": 17,
   "metadata": {},
   "outputs": [],
   "source": [
    "def maxcut_obj(x, G):\n",
    "    \"\"\"\n",
    "    Given a bitstring as a solution, this function returns\n",
    "    the number of edges shared between the two partitions\n",
    "    of the graph.\n",
    "    \n",
    "    Args:\n",
    "        x: str\n",
    "           solution bitstring\n",
    "           \n",
    "        G: networkx graph\n",
    "        \n",
    "    Returns:\n",
    "        obj: float\n",
    "             Objective\n",
    "    \"\"\"\n",
    "    obj = 0\n",
    "    for i, j in G.edges():\n",
    "        if x[i] != x[j]:\n",
    "            obj -= 1\n",
    "            \n",
    "    return obj\n",
    "\n",
    "\n",
    "def compute_expectation(counts, G):\n",
    "    \n",
    "    \"\"\"\n",
    "    Computes expectation value based on measurement results\n",
    "    \n",
    "    Args:\n",
    "        counts: dict\n",
    "                key as bitstring, val as count\n",
    "           \n",
    "        G: networkx graph\n",
    "        \n",
    "    Returns:\n",
    "        avg: float\n",
    "             expectation value\n",
    "    \"\"\"\n",
    "    \n",
    "    avg = 0\n",
    "    sum_count = 0\n",
    "    for bitstring, count in counts.items():\n",
    "        \n",
    "        obj = maxcut_obj(bitstring, G)\n",
    "        avg += obj * count\n",
    "        sum_count += count\n",
    "    return avg/sum_count\n",
    "\n",
    "\n",
    "# We will also bring the different circuit components that\n",
    "# build the qaoa circuit under a single function\n",
    "def create_qaoa_circ(G, theta):\n",
    "    \n",
    "    \"\"\"\n",
    "    Creates a parametrized qaoa circuit\n",
    "    \n",
    "    Args:  \n",
    "        G: networkx graph\n",
    "        theta: list\n",
    "               unitary parameters\n",
    "                     \n",
    "    Returns:\n",
    "        qc: qiskit circuit\n",
    "    \"\"\"\n",
    "    nqubits = len(G.nodes())        # Number of qubits = number of nodes in graph \n",
    "    p = len(theta)//2               # Number of alternating unitaries\n",
    "    qc = QuantumCircuit(nqubits)    # Initializing Q circuit w. nqubits nr. of qbits\n",
    "    \n",
    "    beta = theta[:p]                # Beta opt param for mixing unitaries as first p vals.\n",
    "    gamma = theta[p:]               # Gama opt param for cost unitaries as last p vals.\n",
    "    \n",
    "    # Initial_state: Hadamark gate on each qbit\n",
    "    for i in range(0, nqubits):\n",
    "        qc.h(i)\n",
    "    \n",
    "    # Cost unitary: Z_i*Z_j on pair[0], pair[1] qbits\n",
    "    for irep in range(0, p):        \n",
    "        for pair in list(G.edges()):\n",
    "            qc.rzz(2 * gamma[irep], pair[0], pair[1])\n",
    "\n",
    "    # mixer unitary: X rotation on each qbit      \n",
    "    for irep in range(0, p): \n",
    "        for i in range(0, nqubits):\n",
    "            qc.rx(2 * beta[irep], i)\n",
    "            \n",
    "    qc.measure_all()        \n",
    "    return qc\n",
    "\n",
    "# Finally we write a function that executes the circuit on the chosen backend\n",
    "def get_expectation(G, p, shots=512):\n",
    "    \n",
    "    \"\"\"\n",
    "    Runs parametrized circuit\n",
    "    \n",
    "    Args:\n",
    "        G: networkx graph\n",
    "        p: int,\n",
    "           Number of repetitions of unitaries\n",
    "    \"\"\"\n",
    "    backend = Aer.get_backend('qasm_simulator')\n",
    "    backend.shots = shots\n",
    "    \n",
    "    def execute_circ(theta):\n",
    "        \n",
    "        qc = create_qaoa_circ(G, theta)\n",
    "        counts = backend.run(qc, seed_simulator=10, \n",
    "                             nshots=512).result().get_counts()\n",
    "        return compute_expectation(counts, G) ## Returns the expectation of graph, given counts\n",
    "    \n",
    "    return execute_circ\n",
    "\n"
   ]
  },
  {
   "cell_type": "code",
   "execution_count": 18,
   "metadata": {},
   "outputs": [
    {
     "name": "stdout",
     "output_type": "stream",
     "text": [
      "{'1110': 27, '1011': 27, '1000': 31, '1001': 69, '0101': 44, '1010': 65, '0011': 81, '0001': 34, '0110': 66, '0010': 26, '0000': 182, '0111': 35, '1101': 28, '1111': 205, '0100': 26, '1100': 78}\n",
      "{'1110': 3, '1011': 2, '0010': 1, '1001': 109, '0000': 44, '0011': 96, '0001': 8, '0110': 108, '0101': 231, '0111': 4, '1101': 2, '1111': 48, '1000': 2, '0100': 2, '1100': 115, '1010': 249}\n",
      "{'1000': 15, '0101': 20, '1110': 18, '1011': 15, '1001': 81, '1010': 23, '0100': 8, '1100': 89, '0111': 17, '0001': 18, '0011': 73, '1101': 14, '1111': 275, '0110': 82, '0010': 15, '0000': 261}\n",
      "{'1000': 60, '1011': 48, '1001': 42, '0010': 55, '0000': 25, '0101': 178, '0110': 53, '0111': 52, '0001': 46, '0011': 41, '1101': 60, '1111': 20, '0100': 44, '1100': 45, '1110': 59, '1010': 196}\n",
      "{'1000': 68, '0110': 42, '1100': 34, '0100': 70, '1001': 34, '0101': 59, '1110': 55, '0011': 42, '0001': 52, '1010': 81, '0000': 109, '0010': 58, '1101': 58, '1111': 126, '0111': 62, '1011': 74}\n",
      "{'1011': 29, '1000': 41, '1001': 89, '0010': 31, '0000': 49, '0101': 143, '0110': 86, '0111': 37, '0001': 32, '0011': 76, '1101': 36, '1111': 48, '0100': 40, '1100': 82, '1110': 46, '1010': 159}\n",
      "{'1000': 34, '1110': 31, '0010': 28, '1001': 59, '0000': 22, '1011': 25, '0111': 36, '0001': 30, '0011': 52, '1101': 40, '1111': 19, '1100': 62, '0100': 26, '0110': 57, '0101': 243, '1010': 260}\n",
      "{'1000': 68, '0110': 19, '1110': 63, '1001': 17, '1011': 65, '0101': 132, '1101': 54, '1111': 99, '0111': 62, '0000': 82, '0010': 50, '1100': 16, '0100': 72, '0011': 17, '0001': 60, '1010': 148}\n",
      "{'0010': 34, '0000': 6, '1000': 41, '1110': 30, '1001': 65, '1011': 28, '0011': 66, '0001': 27, '1100': 81, '0100': 27, '0110': 74, '0101': 223, '0111': 37, '1101': 39, '1111': 2, '1010': 244}\n",
      "{'1011': 19, '0010': 23, '1000': 23, '1110': 22, '1001': 70, '0000': 25, '0011': 64, '0001': 16, '1100': 77, '0100': 15, '0110': 65, '0101': 258, '0111': 28, '1101': 25, '1111': 19, '1010': 275}\n",
      "{'0010': 13, '1011': 10, '1000': 12, '1001': 83, '0000': 29, '0011': 76, '0001': 10, '0110': 81, '0101': 259, '0111': 16, '1101': 14, '1111': 26, '1110': 10, '0100': 10, '1100': 94, '1010': 281}\n",
      "{'1011': 18, '0010': 19, '1000': 25, '1110': 23, '1001': 64, '0000': 29, '0111': 31, '0001': 23, '0011': 61, '1101': 25, '1111': 27, '1100': 75, '0100': 17, '0110': 56, '0101': 258, '1010': 273}\n",
      "{'1011': 12, '1110': 17, '1000': 17, '1001': 82, '0010': 12, '0000': 18, '1100': 97, '0100': 8, '0110': 82, '0101': 259, '0001': 12, '0011': 84, '0111': 19, '1101': 13, '1111': 13, '1010': 279}\n",
      "{'1011': 17, '1110': 18, '0000': 11, '1000': 21, '0010': 13, '1001': 81, '0011': 85, '0001': 18, '1100': 98, '0100': 14, '0110': 78, '0101': 248, '0111': 27, '1101': 18, '1111': 7, '1010': 270}\n",
      "{'1011': 7, '1110': 10, '1000': 9, '1111': 20, '1101': 9, '1001': 93, '0010': 9, '0000': 25, '0110': 94, '0101': 256, '0111': 11, '0001': 6, '0011': 89, '0100': 4, '1100': 106, '1010': 276}\n",
      "{'1011': 17, '0010': 19, '1000': 20, '1001': 76, '0000': 18, '0011': 75, '0001': 15, '0110': 75, '0101': 257, '0111': 24, '1101': 20, '1111': 13, '1110': 19, '0100': 11, '1100': 88, '1010': 277}\n",
      "{'1011': 12, '1110': 18, '1000': 19, '1001': 81, '0010': 13, '0000': 18, '1100': 98, '0100': 9, '0110': 81, '0101': 258, '0001': 11, '0011': 84, '0111': 20, '1101': 13, '1111': 11, '1010': 278}\n",
      "{'1011': 12, '1110': 16, '1000': 14, '1111': 13, '1101': 12, '1001': 86, '0010': 12, '0000': 19, '0110': 85, '0101': 260, '0111': 16, '0001': 10, '0011': 86, '0100': 6, '1100': 99, '1010': 278}\n",
      "{'1011': 12, '1110': 18, '1000': 19, '1001': 80, '0010': 12, '0000': 18, '1100': 92, '0100': 9, '0110': 80, '0101': 259, '0001': 13, '0011': 83, '0111': 20, '1101': 18, '1111': 12, '1010': 279}\n",
      "{'1011': 14, '1110': 18, '1000': 19, '1001': 78, '0010': 18, '0000': 18, '1100': 91, '0100': 11, '0110': 79, '0101': 257, '0001': 13, '0011': 77, '0111': 21, '1101': 19, '1111': 12, '1010': 279}\n",
      "{'1011': 12, '1110': 17, '1000': 19, '1001': 78, '0010': 12, '0000': 18, '1100': 92, '0100': 9, '0110': 80, '0101': 259, '0001': 13, '0011': 83, '0111': 20, '1101': 18, '1111': 13, '1010': 281}\n",
      "{'1011': 12, '1110': 15, '1000': 16, '1111': 15, '1101': 17, '1001': 81, '0010': 12, '0000': 20, '0110': 81, '0101': 260, '0111': 19, '0001': 11, '0011': 84, '0100': 7, '1100': 93, '1010': 281}\n",
      "{'1110': 17, '1011': 13, '1000': 19, '1001': 78, '0010': 12, '0000': 19, '1100': 92, '0100': 9, '0110': 80, '0101': 259, '0001': 13, '0011': 82, '0111': 20, '1101': 18, '1111': 13, '1010': 280}\n",
      "{'1011': 12, '1110': 17, '1000': 19, '1001': 80, '0010': 12, '0000': 19, '1100': 92, '0100': 9, '0110': 80, '0101': 259, '0001': 12, '0011': 83, '0111': 20, '1101': 18, '1111': 13, '1010': 279}\n",
      "{'1011': 12, '1110': 17, '1000': 19, '1001': 80, '0010': 12, '0000': 18, '1100': 92, '0100': 9, '0110': 80, '0101': 259, '0001': 13, '0011': 83, '0111': 20, '1101': 18, '1111': 13, '1010': 279}\n",
      "{'1011': 12, '1110': 17, '1000': 19, '1001': 78, '0010': 12, '0000': 19, '1100': 92, '0100': 9, '0110': 80, '0101': 259, '0001': 12, '0011': 83, '0111': 20, '1101': 18, '1111': 13, '1010': 281}\n",
      "{'1011': 12, '1110': 17, '1000': 19, '1001': 78, '0010': 12, '0000': 19, '1100': 92, '0100': 9, '0110': 80, '0101': 259, '0001': 12, '0011': 83, '0111': 20, '1101': 18, '1111': 13, '1010': 281}\n",
      "{'1011': 12, '1110': 17, '1000': 19, '1001': 78, '0010': 12, '0000': 19, '1100': 92, '0100': 9, '0110': 80, '0101': 259, '0001': 12, '0011': 83, '0111': 20, '1101': 18, '1111': 13, '1010': 281}\n",
      "{'1011': 12, '1110': 17, '1000': 19, '1001': 78, '0010': 12, '0000': 18, '1100': 92, '0100': 9, '0110': 80, '0101': 259, '0001': 13, '0011': 83, '0111': 20, '1101': 18, '1111': 13, '1010': 281}\n",
      "{'1011': 12, '1110': 17, '1000': 19, '1001': 78, '0010': 12, '0000': 18, '1100': 92, '0100': 9, '0110': 80, '0101': 259, '0001': 13, '0011': 83, '0111': 20, '1101': 18, '1111': 13, '1010': 281}\n",
      "{'1011': 12, '1110': 17, '1000': 19, '1001': 78, '0010': 12, '0000': 18, '1100': 92, '0100': 9, '0110': 80, '0101': 259, '0001': 13, '0011': 83, '0111': 20, '1101': 18, '1111': 13, '1010': 281}\n"
     ]
    },
    {
     "data": {
      "text/plain": [
       "     fun: -2.994140625\n",
       "   maxcv: 0.0\n",
       " message: 'Optimization terminated successfully.'\n",
       "    nfev: 31\n",
       "  status: 1\n",
       " success: True\n",
       "       x: array([1.97958006, 1.16618482])"
      ]
     },
     "execution_count": 18,
     "metadata": {},
     "output_type": "execute_result"
    }
   ],
   "source": [
    "from scipy.optimize import minimize\n",
    "\n",
    "expectation = get_expectation(G, p=2)\n",
    "\n",
    "res = minimize(fun = expectation, x0 = [1.0,1.0], method='COBYLA')\n",
    "res"
   ]
  },
  {
   "cell_type": "code",
   "execution_count": 19,
   "metadata": {},
   "outputs": [
    {
     "data": {
      "image/png": "[encoded data removed]",
      "text/plain": [
       "<Figure size 1440x504 with 1 Axes>"
      ]
     },
     "execution_count": 19,
     "metadata": {},
     "output_type": "execute_result"
    }
   ],
   "source": [
    "from qiskit.visualization import plot_histogram\n",
    "\n",
    "backend = Aer.get_backend('aer_simulator')\n",
    "backend.shots = 512\n",
    "\n",
    "qc_res = create_qaoa_circ(G, res.x)\n",
    "\n",
    "counts = backend.run(qc_res, seed_simulator=10).result().get_counts()\n",
    "plot_histogram(counts,figsize=(20,7))"
   ]
  },
  {
   "cell_type": "code",
   "execution_count": null,
   "metadata": {},
   "outputs": [],
   "source": []
  }
 ],
 "metadata": {
  "interpreter": {
   "hash": "de9184fb1100b1b99a61021f59422ac28d78a243336732ae833608768c206ac0"
  },
  "kernelspec": {
   "display_name": "Python 3.9.7 ('base')",
   "language": "python",
   "name": "python3"
  },
  "language_info": {
   "codemirror_mode": {
    "name": "ipython",
    "version": 3
   },
   "file_extension": ".py",
   "mimetype": "text/x-python",
   "name": "python",
   "nbconvert_exporter": "python",
   "pygments_lexer": "ipython3",
   "version": "3.9.7"
  },
  "orig_nbformat": 4
 },
 "nbformat": 4,
 "nbformat_minor": 2
}
