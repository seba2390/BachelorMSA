{
 "cells": [
  {
   "cell_type": "markdown",
   "metadata": {},
   "source": [
    "# Testing Penalty terms"
   ]
  },
  {
   "cell_type": "code",
   "execution_count": 1,
   "metadata": {},
   "outputs": [],
   "source": [
    "import numpy as np\n",
    "from itertools import permutations\n",
    "from copy import deepcopy\n",
    "import c_module"
   ]
  },
  {
   "cell_type": "code",
   "execution_count": 32,
   "metadata": {},
   "outputs": [],
   "source": [
    "def matrix_2_bit_stateV2(my_matrix,original_matrix):\n",
    "    \"\"\"\n",
    "    Maps some given matrix repr. of a MSA \"my_matrix\" to a corresponding\n",
    "    bitstring via the column encoding, whilst respecting\n",
    "    original order in \"original_matrix\".\n",
    "\n",
    "    Args:\n",
    "        mat: 2D numpy array, e.g. array([['A', 'C', 'C', 'T'],\n",
    "                                         ['A', 'C', '_', '_'],\n",
    "                                         ['A', 'T', '_', '_']])\n",
    "    Returns:\n",
    "        numpy array containing bit repr., e.g.: np.array([1,0,0,1...])\n",
    "\n",
    "    \"\"\"\n",
    "    ## Initial definitions\n",
    "    current_matrix = deepcopy(my_matrix)\n",
    "    nr_of_rows, nr_of_cols, gap = current_matrix.shape[0], current_matrix.shape[1], \"_\"\n",
    "    ## List of nr of letters in i'th row of original matrix\n",
    "    nr_letters_in_mat = [len(np.where(original_matrix[i] != \"_\")[0]) for i in range(nr_of_rows)]\n",
    "    ## Needed nr of registers\n",
    "    regs = np.array([list(np.zeros(nr_of_cols)) for i in range(np.sum(nr_letters_in_mat))])\n",
    "    ## List of lists of letters in original matrix rows\n",
    "    original_letters = np.array([list(original_matrix[i][np.where(original_matrix[i] != gap)[0]]) \n",
    "                                 for i in range(nr_of_rows)], dtype=object)\n",
    "    ## List of lists of letters in current matrix rows\n",
    "    current_letters = np.array([list(current_matrix[i][np.where(current_matrix[i] != gap)[0]]) \n",
    "                                for i in range(nr_of_rows)], dtype=object)\n",
    "\n",
    "    for s in range(0 , nr_of_rows):\n",
    "        for n in range(0 , len(current_letters[s])):\n",
    "            ## Finding index\n",
    "            reg_idx = np.where(np.array(original_letters[s]) == current_letters[s][n])[0][0] + int(np.sum(nr_letters_in_mat[:s])) # Original n'th idx\n",
    "            col_idx = np.where(np.array(current_matrix[s])   == current_letters[s][n])[0][0]                                      # Current i'th idx\n",
    "            ## Setting reg value\n",
    "            regs[reg_idx][col_idx] = 1\n",
    "            ## Changing comparator to \"O\" (the letter) in case of multiple of same char\n",
    "            original_letters[s][np.where(np.array(original_letters[s]) == current_letters[s][n])[0][0]] = \"O\"\n",
    "            current_matrix[s][ np.where(np.array(current_matrix[s])    == current_letters[s][n])[0][0]] = \"O\"\n",
    "    return regs.flatten()"
   ]
  },
  {
   "cell_type": "markdown",
   "metadata": {},
   "source": [
    "### Respecting initial order term"
   ]
  },
  {
   "cell_type": "markdown",
   "metadata": {},
   "source": [
    "First testing function desined to penalize incorrect ordering:\n",
    "\n",
    "\\begin{equation}\n",
    "    \\forall n<n',\\,\\forall i<i'\\,\\, \\sum_{s}x_{s,n',i}x_{s,n,i'} = 0\\quad\\Longrightarrow\\quad p_3\\sum_s\\sum_{n<n'}\\sum_{i<i'}x_{s,n',i}x_{s,n,i'}\\quad\\quad\\quad\\quad\\quad\n",
    "\\end{equation}\n",
    "\n",
    "s.t. it should return some int > 0, for any incorrect order, and int = 0 for any correct order."
   ]
  },
  {
   "cell_type": "markdown",
   "metadata": {},
   "source": [
    "Here the following string is the starting point:"
   ]
  },
  {
   "cell_type": "code",
   "execution_count": 33,
   "metadata": {},
   "outputs": [
    {
     "data": {
      "text/plain": [
       "array([['A', 'C', '_', 'T', '_']], dtype='<U1')"
      ]
     },
     "execution_count": 33,
     "metadata": {},
     "output_type": "execute_result"
    }
   ],
   "source": [
    "test_DNA_string = np.array([[\"A\",\"C\",\"_\",\"T\",\"_\"]])\n",
    "test_DNA_string"
   ]
  },
  {
   "cell_type": "markdown",
   "metadata": {},
   "source": [
    "and then a function is created that takes the above string, creates all possible permutations, transforms each of them\n",
    "to the corresponding bitstring and evaluates the penality according to 1):"
   ]
  },
  {
   "cell_type": "code",
   "execution_count": 34,
   "metadata": {},
   "outputs": [],
   "source": [
    "def order_penalty(original_matrix):\n",
    "    ## Defining N_s\n",
    "    nr_of_letters = len([obj for obj in original_matrix[0] if obj != \"_\"])\n",
    "    ## Defining M\n",
    "    nr_of_columns = original_matrix.shape[1]\n",
    "\n",
    "    ## Creating all perms\n",
    "    letter_perms    = list(set(permutations(original_matrix[0])))\n",
    "    letter_perms    = [np.array(list(perm)) for perm in letter_perms]\n",
    "    letter_perms    = [perm.reshape((1,nr_of_columns)) for perm in letter_perms]\n",
    "    bitstring_perms = [matrix_2_bit_stateV2(perm,original_matrix) for perm in letter_perms]\n",
    "\n",
    "    ## \n",
    "    history = []\n",
    "    for idx, bit_string in enumerate(bitstring_perms):\n",
    "        nr_of_penalties = 0\n",
    "        for n1 in range(0 , nr_of_letters):\n",
    "            for n2 in range(n1 + 1 , nr_of_letters):\n",
    "                for i1 in range(0 , nr_of_columns):\n",
    "                    for i2 in range(i1 + 1 , nr_of_columns):\n",
    "                        Xsni1 = bit_string[nr_of_columns * n2 + i1]\n",
    "                        Xsni2 = bit_string[nr_of_columns * n1 + i2]\n",
    "                        nr_of_penalties += int(Xsni1 * Xsni2)\n",
    "            \n",
    "        history.append([list(letter_perms[idx][0]),nr_of_penalties])\n",
    "        \n",
    "    return history"
   ]
  },
  {
   "cell_type": "markdown",
   "metadata": {},
   "source": [
    "Finally each permutation is displayed alongside the corresponding penalty:"
   ]
  },
  {
   "cell_type": "code",
   "execution_count": 35,
   "metadata": {},
   "outputs": [
    {
     "name": "stdout",
     "output_type": "stream",
     "text": [
      "#### [permutation, penalty] #####\n"
     ]
    },
    {
     "data": {
      "text/plain": [
       "[[['_', 'A', 'T', 'C', '_'], 1],\n",
       " [['A', 'T', '_', 'C', '_'], 1],\n",
       " [['A', '_', '_', 'T', 'C'], 1],\n",
       " [['T', '_', 'C', 'A', '_'], 3],\n",
       " [['_', '_', 'T', 'C', 'A'], 3],\n",
       " [['T', '_', '_', 'C', 'A'], 3],\n",
       " [['_', '_', 'A', 'T', 'C'], 1],\n",
       " [['C', '_', 'A', '_', 'T'], 1],\n",
       " [['C', 'T', 'A', '_', '_'], 2],\n",
       " [['T', 'A', '_', '_', 'C'], 2],\n",
       " [['A', '_', '_', 'C', 'T'], 0],\n",
       " [['_', '_', 'C', 'A', 'T'], 1],\n",
       " [['A', '_', 'C', '_', 'T'], 0],\n",
       " [['C', 'A', '_', '_', 'T'], 1],\n",
       " [['A', 'T', 'C', '_', '_'], 1],\n",
       " [['_', 'C', 'T', '_', 'A'], 2],\n",
       " [['T', 'C', '_', '_', 'A'], 3],\n",
       " [['_', 'A', '_', 'T', 'C'], 1],\n",
       " [['C', '_', 'T', 'A', '_'], 2],\n",
       " [['C', '_', 'A', 'T', '_'], 1],\n",
       " [['T', '_', 'A', 'C', '_'], 2],\n",
       " [['_', 'T', 'A', '_', 'C'], 2],\n",
       " [['A', 'C', '_', 'T', '_'], 0],\n",
       " [['_', '_', 'T', 'A', 'C'], 2],\n",
       " [['A', 'C', '_', '_', 'T'], 0],\n",
       " [['C', 'A', 'T', '_', '_'], 1],\n",
       " [['_', 'C', '_', 'T', 'A'], 2],\n",
       " [['_', '_', 'A', 'C', 'T'], 0],\n",
       " [['A', '_', 'C', 'T', '_'], 0],\n",
       " [['A', '_', 'T', '_', 'C'], 1],\n",
       " [['_', 'T', '_', 'C', 'A'], 3],\n",
       " [['C', 'T', '_', 'A', '_'], 2],\n",
       " [['T', 'A', '_', 'C', '_'], 2],\n",
       " [['_', 'A', '_', 'C', 'T'], 0],\n",
       " [['T', '_', '_', 'A', 'C'], 2],\n",
       " [['C', 'A', '_', 'T', '_'], 1],\n",
       " [['_', 'C', 'A', 'T', '_'], 1],\n",
       " [['C', '_', '_', 'T', 'A'], 2],\n",
       " [['_', 'C', 'A', '_', 'T'], 1],\n",
       " [['T', 'A', 'C', '_', '_'], 2],\n",
       " [['_', 'T', 'C', '_', 'A'], 3],\n",
       " [['T', 'C', 'A', '_', '_'], 3],\n",
       " [['_', 'A', 'C', 'T', '_'], 0],\n",
       " [['_', 'A', 'C', '_', 'T'], 0],\n",
       " [['_', 'T', 'A', 'C', '_'], 2],\n",
       " [['A', 'C', 'T', '_', '_'], 0],\n",
       " [['A', '_', 'T', 'C', '_'], 1],\n",
       " [['_', 'C', '_', 'A', 'T'], 1],\n",
       " [['_', '_', 'C', 'T', 'A'], 2],\n",
       " [['_', 'A', 'T', '_', 'C'], 1],\n",
       " [['_', 'T', '_', 'A', 'C'], 2],\n",
       " [['A', 'T', '_', '_', 'C'], 1],\n",
       " [['_', 'C', 'T', 'A', '_'], 2],\n",
       " [['T', '_', 'C', '_', 'A'], 3],\n",
       " [['T', 'C', '_', 'A', '_'], 3],\n",
       " [['C', '_', '_', 'A', 'T'], 1],\n",
       " [['C', 'T', '_', '_', 'A'], 2],\n",
       " [['C', '_', 'T', '_', 'A'], 2],\n",
       " [['T', '_', 'A', '_', 'C'], 2],\n",
       " [['_', 'T', 'C', 'A', '_'], 3]]"
      ]
     },
     "execution_count": 35,
     "metadata": {},
     "output_type": "execute_result"
    }
   ],
   "source": [
    "print(\"#### [permutation, penalty] #####\")\n",
    "order_penalty(test_DNA_string)"
   ]
  }
 ],
 "metadata": {
  "interpreter": {
   "hash": "de9184fb1100b1b99a61021f59422ac28d78a243336732ae833608768c206ac0"
  },
  "kernelspec": {
   "display_name": "Python 3.9.7 ('base')",
   "language": "python",
   "name": "python3"
  },
  "language_info": {
   "codemirror_mode": {
    "name": "ipython",
    "version": 3
   },
   "file_extension": ".py",
   "mimetype": "text/x-python",
   "name": "python",
   "nbconvert_exporter": "python",
   "pygments_lexer": "ipython3",
   "version": "3.9.7"
  },
  "orig_nbformat": 4
 },
 "nbformat": 4,
 "nbformat_minor": 2
}
