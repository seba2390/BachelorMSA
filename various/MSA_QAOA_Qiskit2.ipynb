{
 "cells": [
  {
   "cell_type": "code",
   "execution_count": 37,
   "metadata": {},
   "outputs": [],
   "source": [
    "from qiskit import QuantumCircuit, ClassicalRegister, QuantumRegister\n",
    "from qiskit.visualization import plot_histogram\n",
    "from qiskit import Aer, execute\n",
    "from qiskit.circuit import Parameter\n",
    "import networkx as nx\n",
    "from copy import deepcopy\n",
    "import numpy as np\n",
    "from itertools import permutations\n"
   ]
  },
  {
   "cell_type": "code",
   "execution_count": 38,
   "metadata": {},
   "outputs": [],
   "source": [
    "#### HELPER FUNCTION ####\n",
    "def string_to_arr(string):\n",
    "    arr = []\n",
    "    for str in string: arr.append(int(str))\n",
    "    return np.array(arr)\n",
    "    \n",
    "def score(n1,n2):\n",
    "    \"\"\" Function for computing the score of\n",
    "        some alignment of the two chars n1, n2\n",
    "    Args:\n",
    "        n1: any str in {\"_\",\"A\",\"T\",\"C\",\"G\"}\n",
    "        n2: any str in {\"_\",\"A\",\"T\",\"C\",\"G\"}\n",
    "    Returns:\n",
    "        score: int in {-1,0,1}\n",
    "    \"\"\"\n",
    "    score = None\n",
    "    gap = \"_\"\n",
    "    if   n1 == gap or n2 == gap: score =  0; return score\n",
    "    elif n1 == n2              : score = -1; return score\n",
    "    elif n1 != n2              : score =  1; return score\n",
    "\n",
    "def score_sequence(arr):\n",
    "    \"\"\"Function for computing sum-of-pairs score\n",
    "       according to scheme defined in \n",
    "       score function. \n",
    "    Args:\n",
    "        arr: numpy array, e.g.: np.array([\"A\",\"C\",\"_\",\"T\",\"_\"])\n",
    "    Returns:\n",
    "        final_score: integer \n",
    "       \"\"\"\n",
    "    final_score = 0\n",
    "    for n1 in range(0 , len(arr)):\n",
    "        for n2 in range(n1 + 1 , len(arr)):\n",
    "            final_score += score(arr[n1],arr[n2])\n",
    "    return final_score\n",
    "\n",
    "def recursive_perm_scoring(mat, perms, test_mat, row_idx):\n",
    "    \"\"\"Computing all possibles alignment scores of MSA matrix; mat,\n",
    "       given the permutations for each of the N-1 rows of mat, (found in perms)\n",
    "    \n",
    "    Args:\n",
    "        mat     : 2D numpy array, e.g. array([['A', 'C', 'C', 'T'],\n",
    "                                              ['A', 'C', '_', '_'],\n",
    "                                              ['A', 'T', '_', '_']])\n",
    "        perms   : all distinct permutations of the N-1 last rows of mat\n",
    "        test_mat: matrix \n",
    "       \"\"\"\n",
    "    perm_history, score_history = [], []\n",
    "    if row_idx < mat.shape[0]:\n",
    "        for i in range(0 , len(perms[row_idx - 1])):\n",
    "            test_mat[row_idx,:] = perms[row_idx - 1][i]\n",
    "            score_list, perm_list = recursive_perm_scoring(mat, perms, test_mat, row_idx + 1)\n",
    "            perm_history += perm_list\n",
    "            score_history += score_list\n",
    "            current_score = 0\n",
    "            for j in range(0 , mat.shape[1]):\n",
    "                current_score += score_sequence(test_mat[:,j])\n",
    "            score_history.append(current_score)\n",
    "            perm_history.append(deepcopy(test_mat))\n",
    "    return score_history, perm_history\n",
    "\n",
    "def matrix_2_bit_state(mat):\n",
    "    \"\"\"\n",
    "    Maps some given matrix repr. of a MSA to a corresponding\n",
    "    bitstring via the column encoding: x_(s,n,i) determines whether\n",
    "    the n'th letter of the s'th string is placed in the i'th column.\n",
    "\n",
    "    Args:\n",
    "        mat: 2D numpy array, e.g. array([['A', 'C', 'C', 'T'],\n",
    "                                         ['A', 'C', '_', '_'],\n",
    "                                         ['A', 'T', '_', '_']])\n",
    "    Returns:\n",
    "        numpy array containing bit repr., e.g.: np.array([1,0,0,1...])\n",
    "    \"\"\"\n",
    "    regs = []\n",
    "    gap = \"_\"\n",
    "    for row in range(mat.shape[0]):           # For each S\n",
    "        for col in range(mat.shape[1]):       # For each n\n",
    "            if mat[row][col] != gap:\n",
    "                current_reg = [] \n",
    "                for i in range(mat.shape[1]):     # for each i\n",
    "                    if i == col: current_reg.append(1)\n",
    "                    else:        current_reg.append(0)\n",
    "                regs.append(current_reg)\n",
    "    return np.array(regs).flatten()\n",
    "\n",
    "def bit_state_2_matrix(bit_string,init_mat):\n",
    "    \"\"\"\n",
    "    Maps some given bitstring repr. of a MSA to a corresponding\n",
    "    matrix via the initial matrix. \n",
    "\n",
    "    Args:\n",
    "        bit_string: numpy array containing bit repr., e.g.: np.array([1,0,0,1...])\n",
    "        mat       : 2D numpy array, e.g. array([['A', 'C', 'C', 'T'],\n",
    "                                                ['A', 'C', '_', '_'],\n",
    "                                                ['A', 'T', '_', '_']])\n",
    "    Returns:\n",
    "        2D numpy array, e.g. array([['A', 'C', 'C', 'T'],\n",
    "                                    ['A', 'C', '_', '_'],\n",
    "                                    ['A', 'T', '_', '_']])\n",
    "    \"\"\"\n",
    "    counts, letters, gap = [], [], \"_\"\n",
    "    for row in range(init_mat.shape[0]):\n",
    "        current_count = 0\n",
    "        current_letters  = []\n",
    "        for col in range(init_mat.shape[1]):\n",
    "            if init_mat[row][col] != gap: \n",
    "                current_count += 1\n",
    "                current_letters.append(init_mat[row][col])\n",
    "        letters.append(current_letters)\n",
    "        counts.append(current_count)\n",
    "\n",
    "    lower = 0\n",
    "    multiplier, regs = init_mat.shape[1], []\n",
    "    for value in counts:\n",
    "        for i in range(value):\n",
    "            regs.append(bit_string[lower + i * multiplier : lower + (i + 1) * multiplier])\n",
    "        lower += value * multiplier\n",
    "\n",
    "    counter = 0\n",
    "    new_mat = np.zeros((init_mat.shape),dtype=object)\n",
    "    counter = 0\n",
    "    for i in range(len(letters)):\n",
    "        for j in range(len(letters[i])):\n",
    "            col_idx = np.where(regs[counter] == 1)[0][0]\n",
    "            new_mat[i][col_idx] = letters[i][j]\n",
    "            counter += 1\n",
    "\n",
    "    new_mat[new_mat == 0] = \"_\"\n",
    "    return new_mat\n",
    "\n",
    "def initial_MSA_matrix(strings):\n",
    "    \"\"\" Creating a matrix representation of the strings given\n",
    "    and filling gaps with \"_\"\n",
    "\n",
    "    Args:\n",
    "        list of strings, e.g. [\"ACCT\",\"AC\",\"AT\"]\n",
    "\n",
    "    Returns:\n",
    "        2D numpy array\n",
    "    \"\"\"\n",
    "    lengths = [len(str) for str in strings]\n",
    "    initial_matrix = np.zeros((len(strings) , np.max(lengths)),dtype=object)\n",
    "    for row in range(initial_matrix.shape[0]):\n",
    "        for col in range(len(strings[row])):\n",
    "            initial_matrix[row][col] = strings[row][col]\n",
    "    initial_matrix[initial_matrix == 0] = \"_\"\n",
    "    return initial_matrix\n",
    "\n",
    "def legal_permutations(arr): \n",
    "    \"\"\" Function for computing all permutations of array\n",
    "    of type [\"A\",\"C\",\"_\",\"T\",\"_\"] that maintains original\n",
    "    order of characters != \"_\" .\n",
    "\n",
    "    Args:\n",
    "        arr: numpy array, e.g.: np.array([\"A\",\"C\",\"_\",\"T\",\"_\"])\n",
    "    Returns:\n",
    "        2D numpy array of legal permutations, e.g.: np.array([[\"A\",\"C\",\"_\",\"T\",\"_\"],\n",
    "                                                              [\"A\",\"C\",\"_\",\"_\",\"T\"],...])\n",
    "\n",
    "    \"\"\"\n",
    "    legal_perm_indices = []\n",
    "    letter_order = [char for char in arr if char != \"_\"]\n",
    "    perms = list(set(permutations(arr))) # Using set to remove dubs\n",
    "    perms = [list(perm) for perm in perms]\n",
    "    for idx, perm in enumerate(perms):\n",
    "        letter_counter = 0\n",
    "        keep_perm = True\n",
    "        for letter in perm:\n",
    "            if letter != \"_\":\n",
    "                if letter_order[letter_counter] != letter:\n",
    "                    keep_perm = False\n",
    "                else: letter_counter += 1\n",
    "        if keep_perm: legal_perm_indices.append(idx)\n",
    "    return np.array(perms)[legal_perm_indices]\n",
    "\n",
    "\n",
    "def score_sequence(arr):\n",
    "    \"\"\"Function for computing sum-of-pairs score\n",
    "       according to scheme defined in \n",
    "       score function. \n",
    "    Args:\n",
    "        arr: numpy array, e.g.: np.array([\"A\",\"C\",\"_\",\"T\",\"_\"])\n",
    "    Returns:\n",
    "        final_score: integer \n",
    "       \"\"\"\n",
    "    final_score = 0\n",
    "    for n1 in range(0 , len(arr)):\n",
    "        for n2 in range(n1 + 1 , len(arr)):\n",
    "            final_score += score(arr[n1],arr[n2])\n",
    "    return final_score\n",
    "\n",
    "def recursive_brute_force(init_mat):\n",
    "    \"\"\" Final recursive version of brute force scoring of all relevant\n",
    "    permutations of variable sized MSA matrix. \n",
    "    (Make sure the longest row containin only letters are\n",
    "     initially placed at top of matrix)\n",
    "     \n",
    "    Args:\n",
    "        Init_mat: 2D numpy array, e.g. array([['A', 'C', 'C', 'T'],\n",
    "                                              ['A', 'C', '_', '_'],\n",
    "                                              ['A', 'T', '_', '_']])\n",
    "    Returns:\n",
    "        best_score: Integer\n",
    "        best perms: list of corresponding permutations of MSA matrix\n",
    "    \"\"\"\n",
    "    perms = []\n",
    "    for row_idx in range(1 , init_mat.shape[0]):\n",
    "        perms.append(legal_permutations(init_mat[row_idx,:]))\n",
    "    test_mat = np.zeros((init_mat.shape) , dtype=object)\n",
    "    test_mat[0,:] = init_mat[0,:]\n",
    "    score_history, mat_history = recursive_perm_scoring(init_mat,perms,test_mat,1)\n",
    "    best_score = np.min(score_history)\n",
    "    best_perms = [mat_history[i] for i in range(len(mat_history)) if score_history[i] == best_score]\n",
    "    return best_score, best_perms\n",
    "\n",
    "\n",
    "def encode_score_weights(mat):\n",
    "    \"\"\"Encoding the score of all possible alignments\n",
    "        for all n1, n2 for all s1 < s2 score(n1,n2)\n",
    "\n",
    "    Args:\n",
    "        mat: 2D numpy array, e.g. array([['A', 'C', 'C', 'T'],\n",
    "                                         ['A', 'C', '_', '_'],\n",
    "                                         ['A', 'T', '_', '_']])   \n",
    "    Returns:\n",
    "        weight_matrices: 3D numpy array of shape (1/2 * (L - 1) * L , C , C)\n",
    "                         where L = nr. of rows and C = nr. of cols in\n",
    "                         matrix given\n",
    "    \"\"\"\n",
    "    L, C = mat.shape\n",
    "    weight_matrices = [np.zeros((C,C)) for i in range(int(1/2 * (L - 1) * L))]\n",
    "    for row1 in range(0 , mat.shape[0]):\n",
    "        for row2 in range(row1 + 1 , mat.shape[0]):\n",
    "            for idx1, n1 in enumerate(mat[row1,:]):\n",
    "                for idx2, n2 in enumerate(mat[row2,:]):\n",
    "                    weight_matrices[row1+row2-1][idx1][idx2] = score(n1,n2)\n",
    "    return np.array(weight_matrices)\n",
    "\n",
    "def score_matrix(mat: np.array) -> int:\n",
    "    \"\"\"Function for calculating the alignment score\n",
    "    of a MSA matrix\"\"\"\n",
    "    final_score = 0\n",
    "    for col in range(0 , mat.shape[1]):\n",
    "        final_score += score_sequence(mat[:,col])\n",
    "    return final_score"
   ]
  },
  {
   "cell_type": "code",
   "execution_count": 39,
   "metadata": {},
   "outputs": [
    {
     "data": {
      "text/plain": [
       "array([['A', 'C'],\n",
       "       ['C', '_']], dtype=object)"
      ]
     },
     "execution_count": 39,
     "metadata": {},
     "output_type": "execute_result"
    }
   ],
   "source": [
    "DNA_sequences   = [\"AC\",\"C\"]\n",
    "Init_DNA_matrix = initial_MSA_matrix(DNA_sequences)\n",
    "Init_DNA_matrix"
   ]
  },
  {
   "cell_type": "code",
   "execution_count": 40,
   "metadata": {},
   "outputs": [
    {
     "data": {
      "text/plain": [
       "1"
      ]
     },
     "execution_count": 40,
     "metadata": {},
     "output_type": "execute_result"
    }
   ],
   "source": [
    "Initial_score = score_matrix(Init_DNA_matrix)\n",
    "Initial_score"
   ]
  },
  {
   "cell_type": "code",
   "execution_count": 41,
   "metadata": {},
   "outputs": [
    {
     "data": {
      "text/plain": [
       "(-1,\n",
       " [array([['A', 'C'],\n",
       "         ['_', 'C']], dtype=object)])"
      ]
     },
     "execution_count": 41,
     "metadata": {},
     "output_type": "execute_result"
    }
   ],
   "source": [
    "best_score, perms = recursive_brute_force(Init_DNA_matrix)\n",
    "best_score, perms\n"
   ]
  },
  {
   "cell_type": "code",
   "execution_count": 42,
   "metadata": {},
   "outputs": [
    {
     "data": {
      "text/plain": [
       "array([1, 0, 0, 1, 1, 0])"
      ]
     },
     "execution_count": 42,
     "metadata": {},
     "output_type": "execute_result"
    }
   ],
   "source": [
    "bitstr = matrix_2_bit_state(Init_DNA_matrix)\n",
    "bitstr"
   ]
  },
  {
   "cell_type": "code",
   "execution_count": 43,
   "metadata": {},
   "outputs": [
    {
     "data": {
      "text/plain": [
       "array([['A', 'C'],\n",
       "       ['C', '_']], dtype=object)"
      ]
     },
     "execution_count": 43,
     "metadata": {},
     "output_type": "execute_result"
    }
   ],
   "source": [
    "bit_state_2_matrix(bitstr,Init_DNA_matrix)"
   ]
  },
  {
   "cell_type": "code",
   "execution_count": 44,
   "metadata": {},
   "outputs": [],
   "source": [
    "def compute_expectation(counts, initial_MSA):\n",
    "    \n",
    "    \"\"\"\n",
    "    Computes expectation value based on measurement results\n",
    "    \n",
    "    Args:\n",
    "        counts: dict\n",
    "                key as bitstring, val as count\n",
    "           \n",
    "        initial_MSA: initial 2D np array repr. of MSA\n",
    "        \n",
    "    Returns:\n",
    "        avg: float\n",
    "             expectation value\n",
    "    \"\"\"\n",
    "    avg = 0\n",
    "    sum_count = 0\n",
    "    for bitstring, count in counts.items():\n",
    "        MSA_mat = bit_state_2_matrix(string_to_arr(bitstring),initial_MSA)\n",
    "        score   = score_matrix(MSA_mat)\n",
    "        avg += score * count\n",
    "        sum_count += count\n",
    "    return avg/sum_count"
   ]
  },
  {
   "cell_type": "code",
   "execution_count": 45,
   "metadata": {},
   "outputs": [],
   "source": [
    "def create_qaoa_circ(initial_MSA, theta):\n",
    "    \n",
    "    \"\"\"\n",
    "    Creates a parametrized qaoa circuit\n",
    "    \n",
    "    Args:  \n",
    "        G: networkx graph\n",
    "        theta: list\n",
    "               unitary parameters\n",
    "                     \n",
    "    Returns:\n",
    "        qc: qiskit circuit\n",
    "    \"\"\"\n",
    "    letters_in_mat = [initial_MSA[i][j] for i in range(initial_MSA.shape[0]) \n",
    "                      for j in range(initial_MSA.shape[1]) if initial_MSA[i][j] != \"_\"]\n",
    "    \n",
    "    nqubits = int(len(letters_in_mat) *  initial_MSA.shape[1])  # Number of qubits = number of nodes in graph \n",
    "    p = len(theta)//2               # Number of alternating unitaries\n",
    "    qc = QuantumCircuit(nqubits)    # Initializing Q circuit w. nqubits nr. of qbits\n",
    "    \n",
    "    beta = theta[:p]                # Beta opt param for mixing unitaries as first p vals.\n",
    "    gamma = theta[p:]               # Gama opt param for cost unitaries as last p vals.\n",
    "    \n",
    "    # Initial_state: Hadamark gate on each qbit\n",
    "    for i in range(0, nqubits):\n",
    "        qc.h(i)\n",
    "    \n",
    "    # Cost unitary: Z_i*Z_j on pair[0], pair[1] qbits\n",
    "    for irep in range(0, p):        \n",
    "        for pair in list(G.edges()):\n",
    "            qc.rzz(2 * gamma[irep], pair[0], pair[1])\n",
    "\n",
    "    # mixer unitary: X rotation on each qbit      \n",
    "    for irep in range(0, p): \n",
    "        for i in range(0, nqubits):\n",
    "            qc.rx(2 * beta[irep], i)\n",
    "            \n",
    "    qc.measure_all()        \n",
    "    return qc\n"
   ]
  },
  {
   "cell_type": "code",
   "execution_count": 46,
   "metadata": {},
   "outputs": [],
   "source": [
    "# Finally we write a function that executes the circuit on the chosen backend\n",
    "def get_expectation(G, p, shots=512):\n",
    "    \n",
    "    \"\"\"\n",
    "    Runs parametrized circuit\n",
    "    \n",
    "    Args:\n",
    "        G: networkx graph\n",
    "        p: int,\n",
    "           Number of repetitions of unitaries\n",
    "    \"\"\"\n",
    "    print(G.nodes,p)\n",
    "    backend = Aer.get_backend('qasm_simulator')\n",
    "    backend.shots = shots\n",
    "    \n",
    "    def execute_circ(theta):\n",
    "        \n",
    "        qc = create_qaoa_circ(G, theta)\n",
    "        counts = backend.run(qc, seed_simulator=10, \n",
    "                             nshots=512).result().get_counts()\n",
    "        print(counts)\n",
    "        return compute_expectation(counts, G) ## Returns the expectation of graph, given counts\n",
    "    \n",
    "    return execute_circ"
   ]
  },
  {
   "cell_type": "code",
   "execution_count": 47,
   "metadata": {},
   "outputs": [
    {
     "ename": "NameError",
     "evalue": "name 'G' is not defined",
     "output_type": "error",
     "traceback": [
      "\u001b[0;31m---------------------------------------------------------------------------\u001b[0m",
      "\u001b[0;31mNameError\u001b[0m                                 Traceback (most recent call last)",
      "\u001b[0;32m/var/folders/lf/g00xwz855rs9xhsrn28h139c0000gn/T/ipykernel_3251/355564745.py\u001b[0m in \u001b[0;36m<module>\u001b[0;34m\u001b[0m\n\u001b[1;32m      1\u001b[0m \u001b[0;32mfrom\u001b[0m \u001b[0mscipy\u001b[0m\u001b[0;34m.\u001b[0m\u001b[0moptimize\u001b[0m \u001b[0;32mimport\u001b[0m \u001b[0mminimize\u001b[0m\u001b[0;34m\u001b[0m\u001b[0;34m\u001b[0m\u001b[0m\n\u001b[1;32m      2\u001b[0m \u001b[0;34m\u001b[0m\u001b[0m\n\u001b[0;32m----> 3\u001b[0;31m \u001b[0mexpectation\u001b[0m \u001b[0;34m=\u001b[0m \u001b[0mget_expectation\u001b[0m\u001b[0;34m(\u001b[0m\u001b[0mG\u001b[0m\u001b[0;34m,\u001b[0m \u001b[0mp\u001b[0m\u001b[0;34m=\u001b[0m\u001b[0;36m2\u001b[0m\u001b[0;34m)\u001b[0m\u001b[0;34m\u001b[0m\u001b[0;34m\u001b[0m\u001b[0m\n\u001b[0m\u001b[1;32m      4\u001b[0m \u001b[0;34m\u001b[0m\u001b[0m\n\u001b[1;32m      5\u001b[0m \u001b[0mres\u001b[0m \u001b[0;34m=\u001b[0m \u001b[0mminimize\u001b[0m\u001b[0;34m(\u001b[0m\u001b[0mfun\u001b[0m \u001b[0;34m=\u001b[0m \u001b[0mexpectation\u001b[0m\u001b[0;34m,\u001b[0m \u001b[0mx0\u001b[0m \u001b[0;34m=\u001b[0m \u001b[0;34m[\u001b[0m\u001b[0;36m1.0\u001b[0m\u001b[0;34m,\u001b[0m\u001b[0;36m1.0\u001b[0m\u001b[0;34m]\u001b[0m\u001b[0;34m,\u001b[0m \u001b[0mmethod\u001b[0m\u001b[0;34m=\u001b[0m\u001b[0;34m'COBYLA'\u001b[0m\u001b[0;34m)\u001b[0m\u001b[0;34m\u001b[0m\u001b[0;34m\u001b[0m\u001b[0m\n",
      "\u001b[0;31mNameError\u001b[0m: name 'G' is not defined"
     ]
    }
   ],
   "source": [
    "from scipy.optimize import minimize\n",
    "\n",
    "expectation = get_expectation(G, p=2)\n",
    "\n",
    "res = minimize(fun = expectation, x0 = [1.0,1.0], method='COBYLA')\n",
    "res.x"
   ]
  },
  {
   "cell_type": "code",
   "execution_count": null,
   "metadata": {},
   "outputs": [],
   "source": [
    "backend = Aer.get_backend('aer_simulator')\n",
    "backend.shots = 512\n",
    "\n",
    "qc_res = create_qaoa_circ(G, res.x)\n",
    "\n",
    "counts = backend.run(qc_res, seed_simulator=10).result().get_counts()\n",
    "\n",
    "plot_histogram(counts,figsize=(20,7))"
   ]
  },
  {
   "cell_type": "code",
   "execution_count": 48,
   "metadata": {},
   "outputs": [],
   "source": [
    "backend = Aer.get_backend('qasm_simulator')\n",
    "backend.run()"
   ]
  },
  {
   "cell_type": "code",
   "execution_count": 54,
   "metadata": {},
   "outputs": [
    {
     "data": {
      "text/plain": [
       "<bound method AerBackend.properties of QasmSimulator('qasm_simulator')>"
      ]
     },
     "execution_count": 54,
     "metadata": {},
     "output_type": "execute_result"
    }
   ],
   "source": []
  },
  {
   "cell_type": "code",
   "execution_count": null,
   "metadata": {},
   "outputs": [],
   "source": []
  }
 ],
 "metadata": {
  "interpreter": {
   "hash": "de9184fb1100b1b99a61021f59422ac28d78a243336732ae833608768c206ac0"
  },
  "kernelspec": {
   "display_name": "Python 3.9.7 ('base')",
   "language": "python",
   "name": "python3"
  },
  "language_info": {
   "codemirror_mode": {
    "name": "ipython",
    "version": 3
   },
   "file_extension": ".py",
   "mimetype": "text/x-python",
   "name": "python",
   "nbconvert_exporter": "python",
   "pygments_lexer": "ipython3",
   "version": "3.9.7"
  },
  "orig_nbformat": 4
 },
 "nbformat": 4,
 "nbformat_minor": 2
}
