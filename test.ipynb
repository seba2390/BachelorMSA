{
 "cells": [
  {
   "cell_type": "code",
   "execution_count": 11,
   "metadata": {},
   "outputs": [],
   "source": [
    "import numpy as np\n",
    "\n",
    "from qiskit import QuantumCircuit\n",
    "from qiskit.visualization import plot_histogram\n",
    "from qiskit import Aer\n",
    "\n",
    "from scipy.optimize import minimize\n",
    "from MSA_class import MultipleSequenceAlignment\n",
    "from Qiskit_class import QiskitSimulation\n",
    "\n",
    "\n",
    "import matplotlib.pyplot as plt\n",
    "\n",
    "plt.rc(\"font\", family=[\"Helvetica\", \"Arial\"])\n",
    "plt.rc(\"text\", usetex=True)\n",
    "plt.rc(\"xtick\", top=True, direction=\"in\")\n",
    "plt.rc(\"ytick\", right=True, direction=\"in\")\n",
    "\n"
   ]
  },
  {
   "cell_type": "code",
   "execution_count": 12,
   "metadata": {},
   "outputs": [],
   "source": [
    "## Setting 1: penalties = 100,100,100 ; backend_name=\"qasm_simulator\" ; normalize_weights=True, shots=100000; p = 6; theta_0 = np.ones(p); method='COBYLA'"
   ]
  },
  {
   "cell_type": "code",
   "execution_count": 13,
   "metadata": {},
   "outputs": [],
   "source": [
    "my_strings   = np.array([\"AG\",\"G\"])\n",
    "my_penalties = np.array([1,1,1])*10\n",
    "my_msa       = MultipleSequenceAlignment(strings = my_strings, penalties = my_penalties) \n",
    "\n",
    "solutions = [my_msa.initial_bitstring,np.array([1,0,0,1,0,1],dtype=np.float64)]\n",
    "\n"
   ]
  },
  {
   "cell_type": "code",
   "execution_count": 14,
   "metadata": {},
   "outputs": [],
   "source": [
    "p = 10\n",
    "theta_0 = np.zeros(p)\n",
    "\n",
    "my_simulation = QiskitSimulation(initial_MSA=my_msa, theta_0=theta_0, backend_name=\"qasm_simulator\", normalize_weights=True, shots=1000)\n"
   ]
  },
  {
   "cell_type": "code",
   "execution_count": 15,
   "metadata": {},
   "outputs": [
    {
     "name": "stdout",
     "output_type": "stream",
     "text": [
      "Total number of different states found in simulation:\n",
      "   Normal return from subroutine COBYLA\n",
      "\n",
      "   NFVALS =   61   F =-2.749465E+01    MAXCV = 0.000000E+00\n",
      "   X = 0.000000E+00   0.000000E+00   0.000000E+00   0.000000E+00   0.000000E+00\n",
      " 64\n"
     ]
    },
    {
     "data": {
      "text/plain": [
       "     fun: -27.49465\n",
       "   maxcv: 0.0\n",
       " message: 'Optimization terminated successfully.'\n",
       "    nfev: 61\n",
       "  status: 1\n",
       " success: True\n",
       "       x: array([0., 0., 0., 0., 0., 0., 0., 0., 0., 0.])"
      ]
     },
     "execution_count": 15,
     "metadata": {},
     "output_type": "execute_result"
    },
    {
     "name": "stdout",
     "output_type": "stream",
     "text": [
      "       0.000000E+00   0.000000E+00   0.000000E+00   0.000000E+00   0.000000E+00\n"
     ]
    }
   ],
   "source": [
    "options = {\"disp\":False,\"maxiter\": 200}\n",
    "res = minimize(fun = my_simulation.execute_circuit, x0 = theta_0, method='COBYLA',options = options)\n",
    "print(\"Total number of different states found in simulation:\",len(list(my_simulation.current_counts.values())))\n",
    "res"
   ]
  },
  {
   "cell_type": "code",
   "execution_count": 16,
   "metadata": {},
   "outputs": [
    {
     "data": {
      "image/png": "[encoded data removed]",
      "text/plain": [
       "<Figure size 1800x432 with 1 Axes>"
      ]
     },
     "metadata": {
      "needs_background": "light"
     },
     "output_type": "display_data"
    }
   ],
   "source": [
    "my_simulation.plot_count_histogram(counts = my_simulation.current_counts, solutions = solutions)"
   ]
  },
  {
   "cell_type": "code",
   "execution_count": 17,
   "metadata": {},
   "outputs": [
    {
     "name": "stdout",
     "output_type": "stream",
     "text": [
      "#####################################################\n",
      "#### Most probale state according to simulation ####\n",
      "----------------------|001110|----------------------\n",
      "####################################################\n",
      "with corresponding MSA:\n",
      " --- Invalid state --- ** 1'th letter not placed in any column. \n",
      "** 2'th letter placed in more than one column. \n",
      "\n",
      "(Returning 2D zero array)\n",
      "[[0 0]\n",
      " [0 0]]\n",
      "####################################################\n"
     ]
    }
   ],
   "source": [
    "idx = 0\n",
    "my_simulation.print_solution(idx)"
   ]
  },
  {
   "cell_type": "code",
   "execution_count": 18,
   "metadata": {},
   "outputs": [
    {
     "name": "stdout",
     "output_type": "stream",
     "text": [
      "Initial matrix:\n",
      " [['A' 'G' 'G']\n",
      " ['G' '_' '_']]\n",
      "Valid solutions:\n",
      "[['A' 'G' 'G']\n",
      " ['G' '_' '_']]\n",
      "[['A' 'G' 'G']\n",
      " ['_' 'G' '_']]\n",
      "[['A' 'G' 'G']\n",
      " ['_' '_' 'G']]\n"
     ]
    }
   ],
   "source": [
    "my_strings   = np.array([\"AGG\",\"G\"])\n",
    "my_penalties = np.array([1,1,1])*10\n",
    "my_msa       = MultipleSequenceAlignment(strings = my_strings, penalties = my_penalties) \n",
    "\n",
    "print(\"Initial matrix:\\n\",my_msa.initial_MSA)\n",
    "\n",
    "valid_sol = np.array([1,0,0,0,1,0,0,0,1,1,0,0])\n",
    "good_sol1 = np.array([1,0,0,0,1,0,0,0,1,0,1,0])\n",
    "good_sol2 = np.array([1,0,0,0,1,0,0,0,1,0,0,1])\n",
    "solutions = [valid_sol,good_sol1,good_sol2]\n",
    "\n",
    "print(\"Valid solutions:\")\n",
    "for solution in solutions:\n",
    "    print(my_msa.bit_state_2_matrix(solution))\n"
   ]
  },
  {
   "cell_type": "code",
   "execution_count": 19,
   "metadata": {},
   "outputs": [
    {
     "name": "stdout",
     "output_type": "stream",
     "text": [
      "Total number of different states found in simulation:\n",
      "   Normal return from subroutine COBYLA\n",
      "\n",
      "   NFVALS =   26   F =-7.483225E+01    MAXCV = 0.000000E+00\n",
      "   X = 2.970994E+00   2.239518E+00\n",
      " 844\n"
     ]
    },
    {
     "data": {
      "text/plain": [
       "     fun: -74.83225000000009\n",
       "   maxcv: 0.0\n",
       " message: 'Optimization terminated successfully.'\n",
       "    nfev: 26\n",
       "  status: 1\n",
       " success: True\n",
       "       x: array([2.97099356, 2.23951765])"
      ]
     },
     "execution_count": 19,
     "metadata": {},
     "output_type": "execute_result"
    }
   ],
   "source": [
    "p = 2\n",
    "theta_0 = np.ones(p)\n",
    "\n",
    "my_simulation = QiskitSimulation(initial_MSA=my_msa, theta_0=theta_0, backend_name=\"qasm_simulator\", normalize_weights=True, shots=1000)\n",
    "\n",
    "options = {\"disp\":False,\"maxiter\": 200}\n",
    "res = minimize(fun = my_simulation.execute_circuit, x0 = theta_0, method='COBYLA',options = options)\n",
    "print(\"Total number of different states found in simulation:\",len(list(my_simulation.current_counts.values())))\n",
    "res"
   ]
  },
  {
   "cell_type": "code",
   "execution_count": 20,
   "metadata": {},
   "outputs": [
    {
     "data": {
      "image/png": "[encoded data removed]",
      "text/plain": [
       "<Figure size 1800x432 with 1 Axes>"
      ]
     },
     "metadata": {
      "needs_background": "light"
     },
     "output_type": "display_data"
    }
   ],
   "source": [
    "my_simulation.plot_count_histogram(counts = my_simulation.current_counts, solutions = solutions)"
   ]
  },
  {
   "cell_type": "code",
   "execution_count": null,
   "metadata": {},
   "outputs": [],
   "source": []
  }
 ],
 "metadata": {
  "interpreter": {
   "hash": "de9184fb1100b1b99a61021f59422ac28d78a243336732ae833608768c206ac0"
  },
  "kernelspec": {
   "display_name": "Python 3.9.7 ('base')",
   "language": "python",
   "name": "python3"
  },
  "language_info": {
   "codemirror_mode": {
    "name": "ipython",
    "version": 3
   },
   "file_extension": ".py",
   "mimetype": "text/x-python",
   "name": "python",
   "nbconvert_exporter": "python",
   "pygments_lexer": "ipython3",
   "version": "3.9.7"
  },
  "orig_nbformat": 4
 },
 "nbformat": 4,
 "nbformat_minor": 2
}
