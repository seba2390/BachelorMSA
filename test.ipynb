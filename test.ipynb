{
 "cells": [
  {
   "cell_type": "code",
   "execution_count": 1,
   "metadata": {},
   "outputs": [],
   "source": [
    "import numpy as np\n",
    "\n",
    "from qiskit import QuantumCircuit\n",
    "from qiskit.visualization import plot_histogram\n",
    "from qiskit import Aer\n",
    "\n",
    "from scipy.optimize import minimize\n",
    "from MSA_class import MultipleSequenceAlignment\n",
    "from Qiskit_class import QiskitSimulation\n",
    "\n",
    "\n",
    "import matplotlib.pyplot as plt\n",
    "\n",
    "plt.rc(\"font\", family=[\"Helvetica\", \"Arial\"])\n",
    "plt.rc(\"text\", usetex=True)\n",
    "plt.rc(\"xtick\", top=True, direction=\"in\")\n",
    "plt.rc(\"ytick\", right=True, direction=\"in\")\n",
    "\n"
   ]
  },
  {
   "cell_type": "markdown",
   "metadata": {},
   "source": [
    "## Testcase 1)"
   ]
  },
  {
   "cell_type": "code",
   "execution_count": 2,
   "metadata": {},
   "outputs": [
    {
     "name": "stdout",
     "output_type": "stream",
     "text": [
      "Initial matrix:\n",
      " [['A']\n",
      " ['C']\n",
      " ['C']\n",
      " ['G']]\n",
      "Valid solutions:\n",
      "[['A']\n",
      " ['C']\n",
      " ['C']\n",
      " ['G']]\n"
     ]
    }
   ],
   "source": [
    "\n",
    "my_strings   = np.array([\"A\",\"G\",\"C\",\"C\"])\n",
    "my_penalties = np.array([1,1,1])*10\n",
    "my_msa       = MultipleSequenceAlignment(strings = my_strings, penalties = my_penalties) \n",
    "\n",
    "valid_solution = np.array([1,1,1,1])\n",
    "solutions = [valid_solution]\n",
    "\n",
    "\n",
    "print(\"Initial matrix:\\n\",my_msa.initial_MSA)\n",
    "\n",
    "print(\"Valid solutions:\")\n",
    "for solution in solutions:\n",
    "    print(my_msa.bit_state_2_matrix(solution))\n"
   ]
  },
  {
   "cell_type": "code",
   "execution_count": 3,
   "metadata": {},
   "outputs": [],
   "source": [
    "p = 10\n",
    "theta_0 = np.ones(p)\n",
    "\n",
    "my_simulation = QiskitSimulation(initial_MSA=my_msa, theta_0=theta_0, backend_name=\"qasm_simulator\", normalize_weights=True, shots=10000)"
   ]
  },
  {
   "cell_type": "code",
   "execution_count": 4,
   "metadata": {},
   "outputs": [
    {
     "name": "stdout",
     "output_type": "stream",
     "text": [
      "Total number of different states found in simulation: 16\n"
     ]
    },
    {
     "data": {
      "text/plain": [
       "     fun: -27.90054999999999\n",
       "   maxcv: 0.0\n",
       " message: 'Optimization terminated successfully.'\n",
       "    nfev: 115\n",
       "  status: 1\n",
       " success: True\n",
       "       x: array([ 0.86379657,  0.86434113,  0.86435676,  0.86462922,  0.86496465,\n",
       "        0.1507091 , -0.23466392,  0.57241513,  0.57429827,  0.57522294])"
      ]
     },
     "execution_count": 4,
     "metadata": {},
     "output_type": "execute_result"
    }
   ],
   "source": [
    "options = {\"disp\":False,\"maxiter\": 200}\n",
    "res = minimize(fun = my_simulation.execute_circuit, x0 = theta_0, method='COBYLA',options = options)\n",
    "print(\"Total number of different states found in simulation:\",len(list(my_simulation.current_counts.values())))\n",
    "res"
   ]
  },
  {
   "cell_type": "code",
   "execution_count": 5,
   "metadata": {},
   "outputs": [
    {
     "data": {
      "image/png": "[encoded data removed]",
      "text/plain": [
       "<Figure size 1800x432 with 1 Axes>"
      ]
     },
     "metadata": {
      "needs_background": "light"
     },
     "output_type": "display_data"
    }
   ],
   "source": [
    "my_simulation.plot_count_histogram(counts = my_simulation.current_counts, solutions = solutions)"
   ]
  },
  {
   "cell_type": "code",
   "execution_count": 6,
   "metadata": {},
   "outputs": [
    {
     "name": "stdout",
     "output_type": "stream",
     "text": [
      "['1111' '0101' '1101' '1110']\n",
      "#####################################################\n",
      "#### Most probale state according to simulation ####\n",
      "-----------------------|1111|-----------------------\n",
      "####################################################\n",
      "with corresponding MSA:\n",
      "[['A']\n",
      " ['C']\n",
      " ['C']\n",
      " ['G']]\n",
      "####################################################\n"
     ]
    }
   ],
   "source": [
    "idx = 0\n",
    "my_simulation.print_solution(idx)"
   ]
  },
  {
   "cell_type": "markdown",
   "metadata": {},
   "source": [
    "## Testcase 2)"
   ]
  },
  {
   "cell_type": "code",
   "execution_count": 7,
   "metadata": {},
   "outputs": [
    {
     "name": "stdout",
     "output_type": "stream",
     "text": [
      "Initial matrix:\n",
      " [['A' 'G']\n",
      " ['G' '_']]\n",
      "Valid solutions:\n",
      "[['A' 'G']\n",
      " ['G' '_']]\n",
      "[['A' 'G']\n",
      " ['_' 'G']]\n"
     ]
    }
   ],
   "source": [
    "## Setting 1: penalties = 100,100,100 ; backend_name=\"qasm_simulator\" ; normalize_weights=True, shots=100000; p = 6; theta_0 = np.ones(p); method='COBYLA'\n",
    "\n",
    "my_strings   = np.array([\"AG\",\"G\"])\n",
    "my_penalties = np.array([1,1,1])*10\n",
    "my_msa       = MultipleSequenceAlignment(strings = my_strings, penalties = my_penalties) \n",
    "\n",
    "solutions = [my_msa.initial_bitstring,np.array([1,0,0,1,0,1],dtype=np.float64)]\n",
    "\n",
    "\n",
    "print(\"Initial matrix:\\n\",my_msa.initial_MSA)\n",
    "\n",
    "print(\"Valid solutions:\")\n",
    "for solution in solutions:\n",
    "    print(my_msa.bit_state_2_matrix(solution))\n"
   ]
  },
  {
   "cell_type": "code",
   "execution_count": 8,
   "metadata": {},
   "outputs": [],
   "source": [
    "p = 10\n",
    "theta_0 = np.zeros(p)\n",
    "\n",
    "my_simulation = QiskitSimulation(initial_MSA=my_msa, theta_0=theta_0, backend_name=\"qasm_simulator\", normalize_weights=True, shots=1000)\n"
   ]
  },
  {
   "cell_type": "code",
   "execution_count": 9,
   "metadata": {},
   "outputs": [
    {
     "name": "stdout",
     "output_type": "stream",
     "text": [
      "Total number of different states found in simulation: 64\n"
     ]
    },
    {
     "data": {
      "text/plain": [
       "     fun: -27.49465\n",
       "   maxcv: 0.0\n",
       " message: 'Optimization terminated successfully.'\n",
       "    nfev: 61\n",
       "  status: 1\n",
       " success: True\n",
       "       x: array([0., 0., 0., 0., 0., 0., 0., 0., 0., 0.])"
      ]
     },
     "execution_count": 9,
     "metadata": {},
     "output_type": "execute_result"
    }
   ],
   "source": [
    "options = {\"disp\":False,\"maxiter\": 200}\n",
    "res = minimize(fun = my_simulation.execute_circuit, x0 = theta_0, method='COBYLA',options = options)\n",
    "print(\"Total number of different states found in simulation:\",len(list(my_simulation.current_counts.values())))\n",
    "res"
   ]
  },
  {
   "cell_type": "code",
   "execution_count": 10,
   "metadata": {},
   "outputs": [
    {
     "data": {
      "image/png": "[encoded data removed]",
      "text/plain": [
       "<Figure size 1800x432 with 1 Axes>"
      ]
     },
     "metadata": {
      "needs_background": "light"
     },
     "output_type": "display_data"
    }
   ],
   "source": [
    "my_simulation.plot_count_histogram(counts = my_simulation.current_counts, solutions = solutions)"
   ]
  },
  {
   "cell_type": "code",
   "execution_count": 11,
   "metadata": {},
   "outputs": [
    {
     "name": "stdout",
     "output_type": "stream",
     "text": [
      "['001110' '111010' '101100' '101001']\n",
      "#####################################################\n",
      "#### Most probale state according to simulation ####\n",
      "----------------------|001110|----------------------\n",
      "####################################################\n",
      "with corresponding MSA:\n",
      " --- Invalid state --- \n",
      "(Returning 2D zero array)\n",
      "[[0 0]\n",
      " [0 0]]\n",
      "####################################################\n"
     ]
    }
   ],
   "source": [
    "idx = 0\n",
    "my_simulation.print_solution(idx)"
   ]
  },
  {
   "cell_type": "markdown",
   "metadata": {},
   "source": [
    "## Testcase 3)"
   ]
  },
  {
   "cell_type": "code",
   "execution_count": 12,
   "metadata": {},
   "outputs": [
    {
     "name": "stdout",
     "output_type": "stream",
     "text": [
      "Initial matrix:\n",
      " [['A' 'G' 'G']\n",
      " ['G' '_' '_']]\n",
      "Valid solutions:\n",
      "[['A' 'G' 'G']\n",
      " ['G' '_' '_']]\n",
      "[['A' 'G' 'G']\n",
      " ['_' 'G' '_']]\n",
      "[['A' 'G' 'G']\n",
      " ['_' '_' 'G']]\n"
     ]
    }
   ],
   "source": [
    "my_strings   = np.array([\"AGG\",\"G\"])\n",
    "my_penalties = np.array([1,1,1])*100\n",
    "my_msa       = MultipleSequenceAlignment(strings = my_strings, penalties = my_penalties) \n",
    "\n",
    "print(\"Initial matrix:\\n\",my_msa.initial_MSA)\n",
    "\n",
    "valid_sol = np.array([1,0,0,0,1,0,0,0,1,1,0,0])\n",
    "good_sol1 = np.array([1,0,0,0,1,0,0,0,1,0,1,0])\n",
    "good_sol2 = np.array([1,0,0,0,1,0,0,0,1,0,0,1])\n",
    "solutions = [valid_sol,good_sol1,good_sol2]\n",
    "\n",
    "print(\"Valid solutions:\")\n",
    "for solution in solutions:\n",
    "    print(my_msa.bit_state_2_matrix(solution))\n"
   ]
  },
  {
   "cell_type": "code",
   "execution_count": 13,
   "metadata": {},
   "outputs": [
    {
     "name": "stdout",
     "output_type": "stream",
     "text": [
      "Total number of different states found in simulation: 3924\n"
     ]
    },
    {
     "data": {
      "text/plain": [
       "     fun: -739.2170306999994\n",
       "   maxcv: 0.0\n",
       " message: 'Optimization terminated successfully.'\n",
       "    nfev: 62\n",
       "  status: 1\n",
       " success: True\n",
       "       x: array([0.92336049, 0.92605344, 0.92605344, 0.99874658, 0.99901755,\n",
       "       0.96459988])"
      ]
     },
     "execution_count": 13,
     "metadata": {},
     "output_type": "execute_result"
    }
   ],
   "source": [
    "p = 6\n",
    "theta_0 = np.ones(p)\n",
    "\n",
    "my_simulation = QiskitSimulation(initial_MSA=my_msa, theta_0=theta_0, backend_name=\"qasm_simulator\", normalize_weights=True, shots=100000)\n",
    "\n",
    "options = {\"disp\":False,\"maxiter\": 200}\n",
    "res = minimize(fun = my_simulation.execute_circuit, x0 = theta_0, method='COBYLA',options = options)\n",
    "print(\"Total number of different states found in simulation:\",len(list(my_simulation.current_counts.values())))\n",
    "res"
   ]
  },
  {
   "cell_type": "code",
   "execution_count": 14,
   "metadata": {},
   "outputs": [
    {
     "data": {
      "image/png": "[encoded data removed]",
      "text/plain": [
       "<Figure size 1800x432 with 1 Axes>"
      ]
     },
     "metadata": {
      "needs_background": "light"
     },
     "output_type": "display_data"
    }
   ],
   "source": [
    "my_simulation.plot_count_histogram(counts = my_simulation.current_counts, solutions = solutions)"
   ]
  },
  {
   "cell_type": "code",
   "execution_count": 15,
   "metadata": {},
   "outputs": [
    {
     "name": "stdout",
     "output_type": "stream",
     "text": [
      "['010011001100' '001001100110' '100011001100' '100001100110']\n",
      "#####################################################\n",
      "#### Most probale state according to simulation ####\n",
      "-------------------|010011001100|-------------------\n",
      "####################################################\n",
      "with corresponding MSA:\n",
      " --- Invalid state --- \n",
      "(Returning 2D zero array)\n",
      "[[0 0 0]\n",
      " [0 0 0]]\n",
      "####################################################\n"
     ]
    }
   ],
   "source": [
    "idx = 0\n",
    "my_simulation.print_solution(idx)"
   ]
  },
  {
   "cell_type": "code",
   "execution_count": null,
   "metadata": {},
   "outputs": [],
   "source": []
  }
 ],
 "metadata": {
  "interpreter": {
   "hash": "de9184fb1100b1b99a61021f59422ac28d78a243336732ae833608768c206ac0"
  },
  "kernelspec": {
   "display_name": "Python 3.9.7 ('base')",
   "language": "python",
   "name": "python3"
  },
  "language_info": {
   "codemirror_mode": {
    "name": "ipython",
    "version": 3
   },
   "file_extension": ".py",
   "mimetype": "text/x-python",
   "name": "python",
   "nbconvert_exporter": "python",
   "pygments_lexer": "ipython3",
   "version": "3.9.7"
  },
  "orig_nbformat": 4
 },
 "nbformat": 4,
 "nbformat_minor": 2
}
