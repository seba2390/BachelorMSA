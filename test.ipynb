{
 "cells": [
  {
   "cell_type": "code",
   "execution_count": 19,
   "metadata": {},
   "outputs": [],
   "source": [
    "import numpy as np\n",
    "\n",
    "from qiskit import QuantumCircuit\n",
    "from qiskit.visualization import plot_histogram\n",
    "from qiskit import Aer\n",
    "\n",
    "from scipy.optimize import minimize\n",
    "from MSA_class import MultipleSequenceAlignment\n",
    "from Qiskit_class import QiskitSimulation\n",
    "\n",
    "\n",
    "import matplotlib.pyplot as plt\n",
    "\n",
    "plt.rc(\"font\", family=[\"Helvetica\", \"Arial\"])\n",
    "plt.rc(\"text\", usetex=True)\n",
    "plt.rc(\"xtick\", top=True, direction=\"in\")\n",
    "plt.rc(\"ytick\", right=True, direction=\"in\")\n",
    "\n"
   ]
  },
  {
   "cell_type": "code",
   "execution_count": 49,
   "metadata": {},
   "outputs": [],
   "source": [
    "my_strings   = np.array([\"AG\",\"G\"])\n",
    "my_penalties = np.array([1,1,1])*100\n",
    "my_msa       = MultipleSequenceAlignment(strings = my_strings, penalties = my_penalties) \n",
    "\n",
    "solutions = [my_msa.initial_bitstring,np.array([1,0,0,1,0,1],dtype=np.float64)]\n",
    "\n"
   ]
  },
  {
   "cell_type": "code",
   "execution_count": 50,
   "metadata": {},
   "outputs": [],
   "source": [
    "p = 6\n",
    "theta_0 = np.ones(p)\n",
    "\n",
    "my_simulation = QiskitSimulation(initial_MSA=my_msa, theta_0=theta_0, backend_name=\"qasm_simulator\", normalize_weights=True, shots=100000)\n"
   ]
  },
  {
   "cell_type": "code",
   "execution_count": 51,
   "metadata": {},
   "outputs": [
    {
     "data": {
      "text/plain": [
       "     fun: -379.6086839\n",
       "   maxcv: 0.0\n",
       " message: 'Optimization terminated successfully.'\n",
       "    nfev: 70\n",
       "  status: 1\n",
       " success: True\n",
       "       x: array([0.68214774, 0.39366409, 0.70024982, 1.00779886, 1.16486323,\n",
       "       1.20307637])"
      ]
     },
     "execution_count": 51,
     "metadata": {},
     "output_type": "execute_result"
    },
    {
     "name": "stdout",
     "output_type": "stream",
     "text": [
      "\n",
      "   Normal return from subroutine COBYLA\n",
      "\n",
      "   NFVALS =   70   F =-3.796087E+02    MAXCV = 0.000000E+00\n",
      "   X = 6.821477E-01   3.936641E-01   7.002498E-01   1.007799E+00   1.164863E+00\n",
      "       1.203076E+00\n"
     ]
    }
   ],
   "source": [
    "options = {\"disp\":True,\"maxiter\": 1000}\n",
    "res = minimize(fun = my_simulation.execute_circuit, x0 = theta_0, method='COBYLA',options = options)\n",
    "res"
   ]
  },
  {
   "cell_type": "code",
   "execution_count": 52,
   "metadata": {},
   "outputs": [
    {
     "data": {
      "image/png": "[encoded data removed]",
      "text/plain": [
       "<Figure size 1800x432 with 1 Axes>"
      ]
     },
     "metadata": {
      "needs_background": "light"
     },
     "output_type": "display_data"
    }
   ],
   "source": [
    "my_simulation.plot_count_histogram(counts = my_simulation.current_counts, solutions = solutions)"
   ]
  },
  {
   "cell_type": "code",
   "execution_count": 37,
   "metadata": {},
   "outputs": [
    {
     "name": "stdout",
     "output_type": "stream",
     "text": [
      "#### 2'th most probale state according to simulation ####\n",
      "100110\n",
      "with corresponding MSA:\n",
      "[['A' 'G']\n",
      " ['G' '_']]\n",
      "#########################################################\n"
     ]
    }
   ],
   "source": [
    "idx = 2\n",
    "my_simulation.print_solution(idx)"
   ]
  }
 ],
 "metadata": {
  "interpreter": {
   "hash": "de9184fb1100b1b99a61021f59422ac28d78a243336732ae833608768c206ac0"
  },
  "kernelspec": {
   "display_name": "Python 3.9.7 ('base')",
   "language": "python",
   "name": "python3"
  },
  "language_info": {
   "codemirror_mode": {
    "name": "ipython",
    "version": 3
   },
   "file_extension": ".py",
   "mimetype": "text/x-python",
   "name": "python",
   "nbconvert_exporter": "python",
   "pygments_lexer": "ipython3",
   "version": "3.9.7"
  },
  "orig_nbformat": 4
 },
 "nbformat": 4,
 "nbformat_minor": 2
}
