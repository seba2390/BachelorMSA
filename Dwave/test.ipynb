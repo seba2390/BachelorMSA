{
 "cells": [
  {
   "cell_type": "code",
   "execution_count": 1,
   "metadata": {},
   "outputs": [],
   "source": [
    "from MSA_class import MultipleSequenceAlignment\n",
    "import numpy as np\n",
    "from itertools import permutations, product"
   ]
  },
  {
   "cell_type": "code",
   "execution_count": 2,
   "metadata": {},
   "outputs": [],
   "source": [
    "my_strings   = np.array([\"AGTT\",\"AG\",\"AT\"])\n",
    "my_penalties = np.array([1,1,1])\n",
    "my_msa       = MultipleSequenceAlignment(strings = my_strings, penalties = my_penalties, normalize_weights=True) "
   ]
  },
  {
   "cell_type": "code",
   "execution_count": 3,
   "metadata": {},
   "outputs": [
    {
     "data": {
      "text/plain": [
       "[array([['A', 'G', 'T', 'T'],\n",
       "        ['A', 'T', '_', '_'],\n",
       "        ['_', 'A', 'G', '_']], dtype='<U1'),\n",
       " array([['A', 'G', 'T', 'T'],\n",
       "        ['A', 'T', '_', '_'],\n",
       "        ['A', '_', 'G', '_']], dtype='<U1'),\n",
       " array([['A', 'G', 'T', 'T'],\n",
       "        ['A', 'T', '_', '_'],\n",
       "        ['_', 'A', '_', 'G']], dtype='<U1'),\n",
       " array([['A', 'G', 'T', 'T'],\n",
       "        ['A', 'T', '_', '_'],\n",
       "        ['A', 'G', '_', '_']], dtype='<U1'),\n",
       " array([['A', 'G', 'T', 'T'],\n",
       "        ['A', 'T', '_', '_'],\n",
       "        ['A', '_', '_', 'G']], dtype='<U1'),\n",
       " array([['A', 'G', 'T', 'T'],\n",
       "        ['A', 'T', '_', '_'],\n",
       "        ['_', '_', 'A', 'G']], dtype='<U1'),\n",
       " array([['A', 'G', 'T', 'T'],\n",
       "        ['_', 'A', 'T', '_'],\n",
       "        ['_', 'A', 'G', '_']], dtype='<U1'),\n",
       " array([['A', 'G', 'T', 'T'],\n",
       "        ['_', 'A', 'T', '_'],\n",
       "        ['A', '_', 'G', '_']], dtype='<U1'),\n",
       " array([['A', 'G', 'T', 'T'],\n",
       "        ['_', 'A', 'T', '_'],\n",
       "        ['_', 'A', '_', 'G']], dtype='<U1'),\n",
       " array([['A', 'G', 'T', 'T'],\n",
       "        ['_', 'A', 'T', '_'],\n",
       "        ['A', 'G', '_', '_']], dtype='<U1'),\n",
       " array([['A', 'G', 'T', 'T'],\n",
       "        ['_', 'A', 'T', '_'],\n",
       "        ['A', '_', '_', 'G']], dtype='<U1'),\n",
       " array([['A', 'G', 'T', 'T'],\n",
       "        ['_', 'A', 'T', '_'],\n",
       "        ['_', '_', 'A', 'G']], dtype='<U1'),\n",
       " array([['A', 'G', 'T', 'T'],\n",
       "        ['A', '_', 'T', '_'],\n",
       "        ['_', 'A', 'G', '_']], dtype='<U1'),\n",
       " array([['A', 'G', 'T', 'T'],\n",
       "        ['A', '_', 'T', '_'],\n",
       "        ['A', '_', 'G', '_']], dtype='<U1'),\n",
       " array([['A', 'G', 'T', 'T'],\n",
       "        ['A', '_', 'T', '_'],\n",
       "        ['_', 'A', '_', 'G']], dtype='<U1'),\n",
       " array([['A', 'G', 'T', 'T'],\n",
       "        ['A', '_', 'T', '_'],\n",
       "        ['A', 'G', '_', '_']], dtype='<U1'),\n",
       " array([['A', 'G', 'T', 'T'],\n",
       "        ['A', '_', 'T', '_'],\n",
       "        ['A', '_', '_', 'G']], dtype='<U1'),\n",
       " array([['A', 'G', 'T', 'T'],\n",
       "        ['A', '_', 'T', '_'],\n",
       "        ['_', '_', 'A', 'G']], dtype='<U1'),\n",
       " array([['A', 'G', 'T', 'T'],\n",
       "        ['_', 'A', '_', 'T'],\n",
       "        ['_', 'A', 'G', '_']], dtype='<U1'),\n",
       " array([['A', 'G', 'T', 'T'],\n",
       "        ['_', 'A', '_', 'T'],\n",
       "        ['A', '_', 'G', '_']], dtype='<U1'),\n",
       " array([['A', 'G', 'T', 'T'],\n",
       "        ['_', 'A', '_', 'T'],\n",
       "        ['_', 'A', '_', 'G']], dtype='<U1'),\n",
       " array([['A', 'G', 'T', 'T'],\n",
       "        ['_', 'A', '_', 'T'],\n",
       "        ['A', 'G', '_', '_']], dtype='<U1'),\n",
       " array([['A', 'G', 'T', 'T'],\n",
       "        ['_', 'A', '_', 'T'],\n",
       "        ['A', '_', '_', 'G']], dtype='<U1'),\n",
       " array([['A', 'G', 'T', 'T'],\n",
       "        ['_', 'A', '_', 'T'],\n",
       "        ['_', '_', 'A', 'G']], dtype='<U1'),\n",
       " array([['A', 'G', 'T', 'T'],\n",
       "        ['_', '_', 'A', 'T'],\n",
       "        ['_', 'A', 'G', '_']], dtype='<U1'),\n",
       " array([['A', 'G', 'T', 'T'],\n",
       "        ['_', '_', 'A', 'T'],\n",
       "        ['A', '_', 'G', '_']], dtype='<U1'),\n",
       " array([['A', 'G', 'T', 'T'],\n",
       "        ['_', '_', 'A', 'T'],\n",
       "        ['_', 'A', '_', 'G']], dtype='<U1'),\n",
       " array([['A', 'G', 'T', 'T'],\n",
       "        ['_', '_', 'A', 'T'],\n",
       "        ['A', 'G', '_', '_']], dtype='<U1'),\n",
       " array([['A', 'G', 'T', 'T'],\n",
       "        ['_', '_', 'A', 'T'],\n",
       "        ['A', '_', '_', 'G']], dtype='<U1'),\n",
       " array([['A', 'G', 'T', 'T'],\n",
       "        ['_', '_', 'A', 'T'],\n",
       "        ['_', '_', 'A', 'G']], dtype='<U1'),\n",
       " array([['A', 'G', 'T', 'T'],\n",
       "        ['A', '_', '_', 'T'],\n",
       "        ['_', 'A', 'G', '_']], dtype='<U1'),\n",
       " array([['A', 'G', 'T', 'T'],\n",
       "        ['A', '_', '_', 'T'],\n",
       "        ['A', '_', 'G', '_']], dtype='<U1'),\n",
       " array([['A', 'G', 'T', 'T'],\n",
       "        ['A', '_', '_', 'T'],\n",
       "        ['_', 'A', '_', 'G']], dtype='<U1'),\n",
       " array([['A', 'G', 'T', 'T'],\n",
       "        ['A', '_', '_', 'T'],\n",
       "        ['A', 'G', '_', '_']], dtype='<U1'),\n",
       " array([['A', 'G', 'T', 'T'],\n",
       "        ['A', '_', '_', 'T'],\n",
       "        ['A', '_', '_', 'G']], dtype='<U1'),\n",
       " array([['A', 'G', 'T', 'T'],\n",
       "        ['A', '_', '_', 'T'],\n",
       "        ['_', '_', 'A', 'G']], dtype='<U1')]"
      ]
     },
     "execution_count": 3,
     "metadata": {},
     "output_type": "execute_result"
    }
   ],
   "source": [
    "my_msa.get_valid_per"
   ]
  },
  {
   "cell_type": "code",
   "execution_count": null,
   "metadata": {},
   "outputs": [],
   "source": []
  }
 ],
 "metadata": {
  "interpreter": {
   "hash": "de9184fb1100b1b99a61021f59422ac28d78a243336732ae833608768c206ac0"
  },
  "kernelspec": {
   "display_name": "Python 3.9.7 ('base')",
   "language": "python",
   "name": "python3"
  },
  "language_info": {
   "codemirror_mode": {
    "name": "ipython",
    "version": 3
   },
   "file_extension": ".py",
   "mimetype": "text/x-python",
   "name": "python",
   "nbconvert_exporter": "python",
   "pygments_lexer": "ipython3",
   "version": "3.9.7"
  },
  "orig_nbformat": 4
 },
 "nbformat": 4,
 "nbformat_minor": 2
}
