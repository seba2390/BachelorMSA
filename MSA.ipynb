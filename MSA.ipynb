{
 "cells": [
  {
   "cell_type": "code",
   "execution_count": 1,
   "metadata": {},
   "outputs": [],
   "source": [
    "import numpy as np"
   ]
  },
  {
   "cell_type": "code",
   "execution_count": 2,
   "metadata": {},
   "outputs": [],
   "source": [
    "### Hepler function ###\n",
    "def fill_area(start_row, start_col, target, recipe, multiplier):\n",
    "    \"\"\" Hepler function for filling out subarea of target matrix \n",
    "        with content of recipe * multiplier\n",
    "    Args:\n",
    "        start_row : Integer = The beginning row index of area\n",
    "        start_col : Integer = The beginning col index of area\n",
    "        target    : 2D numpy array to be filled in subarea\n",
    "        recipe    : 2D numpy array that goes into subarea of target\n",
    "        multiplier: Float (possibly complex) multiplied onto all recipe vals\n",
    "    \"\"\"\n",
    "    row_counter = 0\n",
    "    for row in range(start_row,start_row + 2):\n",
    "        col_counter = 0\n",
    "        for col in range(start_col, start_col + 2):\n",
    "            target[row][col] = recipe[row_counter][col_counter] * multiplier\n",
    "            col_counter += 1\n",
    "        row_counter+=1"
   ]
  },
  {
   "cell_type": "code",
   "execution_count": 3,
   "metadata": {},
   "outputs": [],
   "source": [
    "### Main functions ###\n",
    "\n",
    "\n",
    "def tensor_state(str):\n",
    "    \"\"\" Creates a numpy vector representation of a tensor\n",
    "    product state consisting of |0> 's and |1> 's\n",
    "\n",
    "    Args:\n",
    "        string of zeros and ones, e.g. '10'\n",
    "\n",
    "    Returns:\n",
    "        np.array([0,1,0,0,...])\n",
    "    \"\"\"\n",
    "    zero, one = np.array([1,0]), np.array([0,1])\n",
    "    basis_objects = [zero,one]\n",
    "    objects = []\n",
    "    objects.append(basis_objects[int(str[-1])])\n",
    "\n",
    "    for idx in range(0 , len(str) - 1):\n",
    "        current_object = np.zeros(2**(idx+2))\n",
    "        counter = 0\n",
    "        for i in range(2):\n",
    "            for j in range(len(objects[-1])):\n",
    "                current_object[counter] = objects[-1][j] * basis_objects[int(str[idx])][i]\n",
    "                counter += 1\n",
    "        objects.append(current_object)\n",
    "    return objects[-1]\n",
    "\n",
    "\n",
    "def multiple_matrix_tensor(string):\n",
    "    \"\"\" Creates series of tensor product of square matrix repr.\n",
    "    of multiple pauli operators \n",
    "\n",
    "    Args:\n",
    "        string: A string representation of the pauli operators\n",
    "                where X = Pauli_X, Y = Pauli_Y, Z = Pauli_Z, I = identity\n",
    "    \n",
    "    Returns:\n",
    "        2D numpy array corresponding to matrix repr. of tensor product\n",
    "    \"\"\"\n",
    "    complex_vals = False\n",
    "    for str in string:\n",
    "        if str == \"Y\": complex_vals = True\n",
    "\n",
    "    sigma_x, sigma_y, sigma_z = np.array([[0,1],[1,0]]),np.array([[0,-1j],[1j,0]]),np.array([[1,0],[0,-1]])\n",
    "    identity = np.identity(2)\n",
    "    basis_map = {\"X\":sigma_x,\"Y\":sigma_y,\"Z\":sigma_z,\"I\":identity}\n",
    "\n",
    "    objects = []\n",
    "    objects.append(basis_map[string[0]])\n",
    "    for idx in range(0 , len(string) - 1):\n",
    "        if complex_vals:\n",
    "            current_object = np.zeros((2 ** (idx+2) , 2 ** (idx+2)),dtype=complex)\n",
    "        else:\n",
    "            current_object = np.zeros((2 ** (idx+2) , 2 ** (idx+2)))\n",
    "        row_counter = 0\n",
    "        for i in range(int(current_object.shape[0] / 2)):\n",
    "            col_counter = 0\n",
    "            for j in range(int(current_object.shape[0] / 2)):\n",
    "                if objects[-1][i][j] == 1:\n",
    "                    fill_area(row_counter,col_counter,current_object,basis_map[string[idx+1]],1)\n",
    "                elif objects[-1][i][j] == -1:\n",
    "                    fill_area(row_counter,col_counter,current_object,basis_map[string[idx+1]],-1)\n",
    "                elif objects[-1][i][j] == 1j:\n",
    "                    fill_area(row_counter,col_counter,current_object,basis_map[string[idx+1]],1j)\n",
    "                elif objects[-1][i][j] == -1j:\n",
    "                    fill_area(row_counter,col_counter,current_object,basis_map[string[idx+1]],-1j)\n",
    "                col_counter += 2\n",
    "            row_counter += 2                \n",
    "        objects.append(current_object)\n",
    "    return objects[-1]\n",
    "\n",
    "\n",
    "def initial_MSA_matrix(strings):\n",
    "    \"\"\" Creating a matrix representation of the strings given\n",
    "    and filling gaps with \"_\"\n",
    "\n",
    "    Args:\n",
    "        list of strings, e.g. [\"ACCT\",\"AC\",\"AT\"]\n",
    "\n",
    "    Returns:\n",
    "        2D numpy array\n",
    "    \"\"\"\n",
    "    lengths = [len(str) for str in strings]\n",
    "    initial_matrix = np.zeros((len(strings) , np.max(lengths)),dtype=object)\n",
    "    for row in range(initial_matrix.shape[0]):\n",
    "        for col in range(len(strings[row])):\n",
    "            initial_matrix[row][col] = strings[row][col]\n",
    "    initial_matrix[initial_matrix == 0] = \"_\"\n",
    "    return initial_matrix\n",
    "\n",
    "def MSA_binary_matrix(matrix):\n",
    "    \"\"\" Mapping matrix of alphabet strings to \n",
    "    corresponding binary strings \n",
    "    \n",
    "    Args:\n",
    "        2D numpy array, e.g. array([['A', 'C', 'C', 'T'],\n",
    "                                    ['A', 'C', '_', '_'],\n",
    "                                    ['A', 'T', '_', '_']])\n",
    "    Returns:\n",
    "        Corresponding mapped 2D numpy array\n",
    "    \"\"\"\n",
    "    alphabet_dict = {\"_\":'000',\"A\":'001',\"C\":'010',\"T\":'011',\"G\":'100'}\n",
    "    resulting_matrix = np.zeros(matrix.shape,dtype=object)\n",
    "    for row in range(matrix.shape[0]):\n",
    "        for col in range(matrix.shape[1]):\n",
    "            binary = alphabet_dict[matrix[row][col]]\n",
    "            resulting_matrix[row][col] = binary\n",
    "    return resulting_matrix\n",
    "\n",
    "def hamming_distance(state1,state2):\n",
    "    \"\"\"Calculates the hamming distance between \n",
    "    state1 and state2 \n",
    "\n",
    "    Args:\n",
    "        state1: string repr. of tensor state, e.g. \"001\" or \"111\" or ...\n",
    "        state2: string repr. of tensor state, e.g. \"001\" or \"111\" or ...\n",
    "    Returns:\n",
    "        dist: integer score equivalent to number of differing characters\n",
    "    \"\"\"\n",
    "    dist = 0\n",
    "    for i in range(0 , len(state1)):\n",
    "        if state1[i] != state2[i]: dist += 1\n",
    "    return dist "
   ]
  },
  {
   "cell_type": "code",
   "execution_count": 4,
   "metadata": {},
   "outputs": [
    {
     "data": {
      "text/plain": [
       "array([['A', 'C', 'C', 'T'],\n",
       "       ['A', 'C', '_', '_'],\n",
       "       ['A', 'T', '_', '_']], dtype=object)"
      ]
     },
     "execution_count": 4,
     "metadata": {},
     "output_type": "execute_result"
    }
   ],
   "source": [
    "initial_strings = [\"ACCT\",\"AC\",\"AT\"]\n",
    "my_mat = initial_MSA_matrix(initial_strings)\n",
    "my_mat"
   ]
  },
  {
   "cell_type": "code",
   "execution_count": 5,
   "metadata": {},
   "outputs": [
    {
     "data": {
      "text/plain": [
       "array([['001', '010', '010', '011'],\n",
       "       ['001', '010', '000', '000'],\n",
       "       ['001', '011', '000', '000']], dtype=object)"
      ]
     },
     "execution_count": 5,
     "metadata": {},
     "output_type": "execute_result"
    }
   ],
   "source": [
    "binary_repr = MSA_binary_matrix(my_mat)\n",
    "binary_repr"
   ]
  },
  {
   "cell_type": "code",
   "execution_count": 6,
   "metadata": {},
   "outputs": [
    {
     "data": {
      "text/plain": [
       "'001'"
      ]
     },
     "execution_count": 6,
     "metadata": {},
     "output_type": "execute_result"
    }
   ],
   "source": [
    "some_state = binary_repr[0][0]\n",
    "some_state"
   ]
  },
  {
   "cell_type": "code",
   "execution_count": 7,
   "metadata": {},
   "outputs": [
    {
     "data": {
      "text/plain": [
       "array([0., 1., 0., 0., 0., 0., 0., 0.])"
      ]
     },
     "execution_count": 7,
     "metadata": {},
     "output_type": "execute_result"
    }
   ],
   "source": [
    "tensor_state(some_state)"
   ]
  },
  {
   "cell_type": "code",
   "execution_count": 8,
   "metadata": {},
   "outputs": [
    {
     "data": {
      "text/plain": [
       "array([[ 1,  0],\n",
       "       [ 0, -1]])"
      ]
     },
     "execution_count": 8,
     "metadata": {},
     "output_type": "execute_result"
    }
   ],
   "source": [
    "multiple_matrix_tensor(\"Z\")"
   ]
  },
  {
   "cell_type": "code",
   "execution_count": 9,
   "metadata": {},
   "outputs": [
    {
     "name": "stdout",
     "output_type": "stream",
     "text": [
      "1 2\n",
      "1 3\n",
      "1 4\n",
      "1 5\n",
      "2 3\n",
      "2 4\n",
      "2 5\n",
      "3 4\n",
      "3 5\n",
      "4 5\n"
     ]
    }
   ],
   "source": [
    "test = np.array([1,2,3,4,5])\n",
    "for i in range(0,len(test) - 1):\n",
    "    for j in range(i+1,len(test)):\n",
    "        print(test[i],test[j])"
   ]
  },
  {
   "cell_type": "code",
   "execution_count": 11,
   "metadata": {},
   "outputs": [],
   "source": [
    "def projection_operator(state):\n",
    "    \"\"\"Creates a projection operator in the basis of given state\n",
    "    \n",
    "        Args:\n",
    "            State: numpy array \n",
    "\n",
    "        Returns:\n",
    "            2D numpy array \n",
    "    \"\"\"\n",
    "\n",
    "    return np.outer(state,state)\n",
    "    "
   ]
  },
  {
   "cell_type": "code",
   "execution_count": null,
   "metadata": {},
   "outputs": [],
   "source": []
  }
 ],
 "metadata": {
  "interpreter": {
   "hash": "de9184fb1100b1b99a61021f59422ac28d78a243336732ae833608768c206ac0"
  },
  "kernelspec": {
   "display_name": "Python 3.9.7 ('base')",
   "language": "python",
   "name": "python3"
  },
  "language_info": {
   "codemirror_mode": {
    "name": "ipython",
    "version": 3
   },
   "file_extension": ".py",
   "mimetype": "text/x-python",
   "name": "python",
   "nbconvert_exporter": "python",
   "pygments_lexer": "ipython3",
   "version": "3.9.7"
  },
  "orig_nbformat": 4
 },
 "nbformat": 4,
 "nbformat_minor": 2
}
