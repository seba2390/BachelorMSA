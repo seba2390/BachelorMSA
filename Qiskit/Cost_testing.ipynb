{
 "cells": [
  {
   "cell_type": "code",
   "execution_count": 8,
   "metadata": {},
   "outputs": [],
   "source": [
    "import numpy as np\n",
    "import sympy as sp\n",
    "from IPython.display import display\n",
    "from itertools import permutations\n",
    "from copy import deepcopy\n",
    "import matplotlib.pyplot as plt\n",
    "\n",
    "from MSA_class import MultipleSequenceAlignment\n",
    "from Qiskit_class import QiskitSimulation"
   ]
  },
  {
   "cell_type": "code",
   "execution_count": 9,
   "metadata": {},
   "outputs": [
    {
     "name": "stdout",
     "output_type": "stream",
     "text": [
      "Initial matrix:\n",
      " [['A' 'G']\n",
      " ['G' '_']]\n",
      "Valid solutions:\n",
      "[['A' 'G']\n",
      " ['G' '_']]\n",
      "[['A' 'G']\n",
      " ['_' 'G']]\n"
     ]
    },
    {
     "data": {
      "text/plain": [
       "array([[ 2.,  4.,  2.,  0.,  2.,  0.],\n",
       "       [ 0.,  2.,  2.,  2.,  0.,  2.],\n",
       "       [ 0.,  0.,  2.,  4., -1.,  0.],\n",
       "       [ 0.,  0.,  0.,  2.,  0., -1.],\n",
       "       [ 0.,  0.,  0.,  0.,  2.,  4.],\n",
       "       [ 0.,  0.,  0.,  0.,  0.,  2.]])"
      ]
     },
     "execution_count": 9,
     "metadata": {},
     "output_type": "execute_result"
    }
   ],
   "source": [
    "my_strings   = np.array([\"AG\",\"G\"])\n",
    "my_penalties = np.array([1,1,1])*2\n",
    "my_msa       = MultipleSequenceAlignment(strings = my_strings, penalties = my_penalties) \n",
    "\n",
    "solutions = [my_msa.initial_bitstring,np.array([1,0,0,1,0,1],dtype=np.float64)]\n",
    "\n",
    "\n",
    "print(\"Initial matrix:\\n\",my_msa.initial_MSA)\n",
    "\n",
    "print(\"Valid solutions:\")\n",
    "for solution in solutions:\n",
    "    print(my_msa.bit_state_2_matrix(solution))\n",
    "\n",
    "\n",
    "Q, h, d   = my_msa.QUBO_model\n",
    "J, g, c   = my_msa.Ising_model\n",
    "\n",
    "normalize_weights = False\n",
    "\n",
    "if normalize_weights:\n",
    "    J *= 1./np.max(np.array([np.max(J),np.max(g)]))\n",
    "    g *= 1./np.max(np.array([np.max(J),np.max(g)]))\n",
    "    Q *= 1./np.max(np.array([np.max(Q),np.max(h)]))\n",
    "    h *= 1./np.max(np.array([np.max(Q),np.max(h)]))\n",
    "Q"
   ]
  },
  {
   "cell_type": "code",
   "execution_count": 10,
   "metadata": {},
   "outputs": [
    {
     "name": "stdout",
     "output_type": "stream",
     "text": [
      "Number of permutations: 64\n"
     ]
    }
   ],
   "source": [
    "## Creating all permutations\n",
    "state_dim = len(my_msa.initial_bitstring)\n",
    "all_permutations = []\n",
    "for i in range(state_dim + 1):\n",
    "    current_perm = np.zeros(state_dim,dtype=int)\n",
    "    for ones in range(i):\n",
    "        current_perm[ones] = 1\n",
    "    letter_perms = list(set(permutations(list(current_perm))))\n",
    "    for perm in letter_perms:\n",
    "        all_permutations.append(np.array(list(perm),dtype=int).reshape((len(perm),1)))\n",
    "print(\"Number of permutations:\",len(all_permutations))\n"
   ]
  },
  {
   "cell_type": "code",
   "execution_count": 11,
   "metadata": {},
   "outputs": [
    {
     "name": "stdout",
     "output_type": "stream",
     "text": [
      "-- Best state and corresponding cost according to QUBO model:\n"
     ]
    },
    {
     "data": {
      "text/plain": [
       "(array([1, 0, 0, 1, 0, 1]), -1.0)"
      ]
     },
     "execution_count": 11,
     "metadata": {},
     "output_type": "execute_result"
    }
   ],
   "source": [
    "## Finding best state according to QUBO model\n",
    "best_state = None\n",
    "best_cost = np.inf\n",
    "history = []\n",
    "for perm in all_permutations:\n",
    "    cost = ((perm.T @ (Q @ perm) + h.T @ perm + d))[0][0]\n",
    "    history.append([perm.T[0],cost])\n",
    "    if cost < best_cost:\n",
    "        best_cost = cost\n",
    "        best_state = perm.T[0]\n",
    "states = np.array(history,dtype=object)[:,0]\n",
    "costs  = np.array(np.array(history,dtype=object)[:,1],dtype=float)\n",
    "print(\"-- Best state and corresponding cost according to QUBO model:\")\n",
    "best_state,best_cost"
   ]
  },
  {
   "cell_type": "code",
   "execution_count": 12,
   "metadata": {},
   "outputs": [
    {
     "name": "stdout",
     "output_type": "stream",
     "text": [
      "-- Best state and corresponding cost according to Ising model:\n"
     ]
    },
    {
     "data": {
      "text/plain": [
       "(array([-1,  1,  1, -1,  1, -1]), -1.0)"
      ]
     },
     "execution_count": 12,
     "metadata": {},
     "output_type": "execute_result"
    }
   ],
   "source": [
    "## Finding best state according to Ising model\n",
    "all_ising_permutations = np.array([1 - 2 * perm for perm in all_permutations])\n",
    "best_ising_state = None\n",
    "best_ising_cost = np.inf\n",
    "ising_history = []\n",
    "for perm in all_ising_permutations:\n",
    "    cost = ((perm.T @ (J @ perm) + g.T @ perm + c))[0][0]\n",
    "    ising_history.append([perm.T[0],cost])\n",
    "    if cost < best_ising_cost:\n",
    "        best_ising_cost = cost\n",
    "        best_ising_state = perm.T[0]\n",
    "ising_states = np.array(ising_history,dtype=object)[:,0]\n",
    "ising_costs  = np.array(np.array(ising_history,dtype=object)[:,1],dtype=float)\n",
    "print(\"-- Best state and corresponding cost according to Ising model:\")\n",
    "best_ising_state,best_ising_cost"
   ]
  },
  {
   "cell_type": "code",
   "execution_count": 13,
   "metadata": {},
   "outputs": [
    {
     "name": "stdout",
     "output_type": "stream",
     "text": [
      "Ising costs == QUBO costs: True\n"
     ]
    }
   ],
   "source": [
    "## Checking that the two models evaluate to same cost on all perms\n",
    "QUBO_costs = []\n",
    "Ising_costs = []\n",
    "for perm in all_permutations:\n",
    "    x = perm.reshape((len(perm),1))\n",
    "    s = (1-2*x)\n",
    "    QUBO_costs.append((x.T @ Q @ x + h.T @ x + d)[0][0])\n",
    "    Ising_costs.append((s.T @ J @ s + g.T @ s + c)[0][0])\n",
    "\n",
    "print(\"Ising costs == QUBO costs:\",np.all(np.array(QUBO_costs) == np.array(Ising_costs)))"
   ]
  },
  {
   "cell_type": "code",
   "execution_count": 14,
   "metadata": {},
   "outputs": [
    {
     "name": "stdout",
     "output_type": "stream",
     "text": [
      " QUBO costs sum: 320.0\n",
      "Ising costs sum: 320.0\n"
     ]
    },
    {
     "data": {
      "image/png": "[encoded data removed]",
      "text/plain": [
       "<Figure size 1800x1008 with 2 Axes>"
      ]
     },
     "metadata": {
      "needs_background": "light"
     },
     "output_type": "display_data"
    }
   ],
   "source": [
    "#################################################################################\n",
    "history = []\n",
    "for perm in all_permutations:\n",
    "    cost = ((perm.T @ (Q @ perm) + h.T @ perm + d))[0][0]\n",
    "    history.append([perm.T[0],cost])\n",
    "states = np.array(history,dtype=object)[:,0]\n",
    "costs  = np.array(np.array(history,dtype=object)[:,1],dtype=float)\n",
    "print(\" QUBO costs sum:\",np.sum(costs))\n",
    "\n",
    "xs = np.arange(0,len(states))\n",
    "ys = costs\n",
    "\n",
    "x_labels = []\n",
    "for state in states:\n",
    "    current_state_str = r\"$|$\"\n",
    "    for nr in state.astype(np.int64):\n",
    "        current_state_str += str(nr)\n",
    "    current_state_str += r\"$\\rangle$\"\n",
    "    x_labels.append(current_state_str)\n",
    "\n",
    "#################################################################################\n",
    "ising_history = []\n",
    "for perm in all_ising_permutations:\n",
    "    cost = ((perm.T @ (J @ perm) + g.T @ perm + c))[0][0]\n",
    "    ising_history.append([perm.T[0],cost])\n",
    "ising_states = np.array(ising_history,dtype=object)[:,0]\n",
    "ising_costs  = np.array(np.array(ising_history,dtype=object)[:,1],dtype=float)\n",
    "print(\"Ising costs sum:\",np.sum(ising_costs))\n",
    "\n",
    "ising_xs = np.arange(0,len(ising_states))\n",
    "ising_ys = ising_costs\n",
    "\n",
    "ising_x_labels = []\n",
    "for state in ising_states:\n",
    "    current_state_str = r\"$|$\"\n",
    "    for nr in state.astype(np.int64):\n",
    "        if nr == -1:\n",
    "            current_state_str += str(nr)\n",
    "        else:\n",
    "            current_state_str += \" \" + str(nr)\n",
    "    current_state_str += r\"$\\rangle$\"\n",
    "    ising_x_labels.append(current_state_str)\n",
    "#################################################################################\n",
    "\n",
    "fig, ax = plt.subplots(2,1,figsize=(25,14))\n",
    "\n",
    "\n",
    "ax[0].set_xticks(xs)\n",
    "ax[0].set_xticklabels(x_labels, rotation = 90,size=15)\n",
    "ax[0].bar(xs,ys,color=[\"tab:red\" if ys[i] == np.min(ys) else \"tab:blue\" for i in range(len(xs))])\n",
    "ax[0].hlines(0,np.min(xs)-0.05*np.max(xs),1.05*np.max(xs),ls=\"--\",lw=2,color=\"k\")\n",
    "ax[0].set_xlim(np.min(xs)-0.05*np.max(xs),1.05*np.max(xs))\n",
    "ax[0].set_ylabel(\"Cost\",size=18)\n",
    "\n",
    "\n",
    "\n",
    "ax[1].set_xticks(ising_xs)\n",
    "ax[1].set_xticklabels(ising_x_labels, rotation = 90,size=15)\n",
    "ax[1].bar(ising_xs,ising_ys,color=[\"tab:red\" if ising_ys[i] == np.min(ising_ys) else \"tab:blue\" for i in range(len(ising_xs))])\n",
    "ax[1].hlines(0,np.min(ising_xs)-0.05*np.max(ising_xs),1.05*np.max(ising_xs),ls=\"--\",lw=2,color=\"k\")\n",
    "ax[1].set_xlim(np.min(ising_xs)-0.05*np.max(ising_xs),1.05*np.max(ising_xs))\n",
    "ax[1].set_ylabel(\"Cost\",size=18)\n",
    "\n",
    "plt.show()"
   ]
  },
  {
   "cell_type": "code",
   "execution_count": null,
   "metadata": {},
   "outputs": [],
   "source": []
  },
  {
   "cell_type": "code",
   "execution_count": null,
   "metadata": {},
   "outputs": [],
   "source": []
  }
 ],
 "metadata": {
  "interpreter": {
   "hash": "de9184fb1100b1b99a61021f59422ac28d78a243336732ae833608768c206ac0"
  },
  "kernelspec": {
   "display_name": "Python 3.9.7 ('base')",
   "language": "python",
   "name": "python3"
  },
  "language_info": {
   "codemirror_mode": {
    "name": "ipython",
    "version": 3
   },
   "file_extension": ".py",
   "mimetype": "text/x-python",
   "name": "python",
   "nbconvert_exporter": "python",
   "pygments_lexer": "ipython3",
   "version": "3.9.7"
  },
  "orig_nbformat": 4
 },
 "nbformat": 4,
 "nbformat_minor": 2
}
