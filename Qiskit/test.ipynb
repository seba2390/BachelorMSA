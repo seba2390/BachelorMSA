{
 "cells": [
  {
   "cell_type": "code",
   "execution_count": 1,
   "metadata": {},
   "outputs": [],
   "source": [
    "import numpy as np\n",
    "\n",
    "from qiskit import QuantumCircuit\n",
    "from qiskit.visualization import plot_histogram\n",
    "from qiskit import Aer\n",
    "\n",
    "from scipy.optimize import minimize\n",
    "from scipy.optimize import basinhopping\n",
    "from scipy.optimize import differential_evolution\n",
    "\n",
    "from MSA_class import MultipleSequenceAlignment\n",
    "from Qiskit_class import QiskitSimulation\n",
    "\n",
    "\n",
    "import matplotlib.pyplot as plt\n",
    "\n",
    "plt.rc(\"font\", family=[\"Helvetica\", \"Arial\"])\n",
    "plt.rc(\"text\", usetex=True)\n",
    "plt.rc(\"xtick\", top=True, direction=\"in\")\n",
    "plt.rc(\"ytick\", right=True, direction=\"in\")\n",
    "\n"
   ]
  },
  {
   "cell_type": "markdown",
   "metadata": {},
   "source": [
    "## Testcase 1)"
   ]
  },
  {
   "cell_type": "code",
   "execution_count": 10,
   "metadata": {},
   "outputs": [
    {
     "name": "stdout",
     "output_type": "stream",
     "text": [
      "Initial matrix:\n",
      " [['A']\n",
      " ['C']\n",
      " ['C']\n",
      " ['G']]\n",
      "Valid solutions:\n",
      "[['A']\n",
      " ['C']\n",
      " ['C']\n",
      " ['G']]\n"
     ]
    }
   ],
   "source": [
    "\n",
    "my_strings   = np.array([\"A\",\"G\",\"C\",\"C\"])\n",
    "my_penalties = np.array([1,1,1])\n",
    "my_msa       = MultipleSequenceAlignment(strings = my_strings, penalties = my_penalties, normalize_weights=True) \n",
    "\n",
    "valid_solution = np.array([1,1,1,1])\n",
    "solutions = [valid_solution]\n",
    "\n",
    "\n",
    "print(\"Initial matrix:\\n\",my_msa.initial_MSA)\n",
    "\n",
    "print(\"Valid solutions:\")\n",
    "for solution in solutions:\n",
    "    print(my_msa.bit_state_2_matrix(solution))\n"
   ]
  },
  {
   "cell_type": "code",
   "execution_count": 11,
   "metadata": {},
   "outputs": [],
   "source": [
    "p = 2\n",
    "theta_0 = np.ones(p)\n",
    "\n",
    "my_simulation = QiskitSimulation(initial_MSA=my_msa, theta_0=theta_0, backend_name=\"qasm_simulator\", shots=100000)"
   ]
  },
  {
   "cell_type": "code",
   "execution_count": 12,
   "metadata": {},
   "outputs": [
    {
     "name": "stdout",
     "output_type": "stream",
     "text": [
      "Total number of different states found in simulation: 1\n"
     ]
    },
    {
     "data": {
      "text/plain": [
       "     fun: 0.0\n",
       " message: 'Optimization terminated successfully.'\n",
       "    nfev: 523\n",
       "     nit: 25\n",
       " success: True\n",
       "       x: array([5.49828529, 3.14148164])"
      ]
     },
     "execution_count": 12,
     "metadata": {},
     "output_type": "execute_result"
    }
   ],
   "source": [
    "#options = {\"disp\":False,\"maxiter\": 200}\n",
    "#res = minimize(fun = my_simulation.execute_circuit, x0 = theta_0, method='COBYLA',options = options)\n",
    "\n",
    "\n",
    "bounds = [(0,2*np.pi), (0,2*np.pi)]\n",
    "res = differential_evolution(func=my_simulation.execute_circuit, bounds=bounds,popsize=10)\n",
    "\n",
    "print(\"Total number of different states found in simulation:\",len(list(my_simulation.current_counts.values())))\n",
    "res"
   ]
  },
  {
   "cell_type": "code",
   "execution_count": 9,
   "metadata": {},
   "outputs": [
    {
     "data": {
      "image/png": "[encoded data removed]",
      "text/plain": [
       "<Figure size 1800x432 with 1 Axes>"
      ]
     },
     "metadata": {
      "needs_background": "light"
     },
     "output_type": "display_data"
    }
   ],
   "source": [
    "my_simulation.plot_count_histogram(counts = my_simulation.current_counts, solutions = solutions)"
   ]
  },
  {
   "cell_type": "code",
   "execution_count": 6,
   "metadata": {},
   "outputs": [
    {
     "name": "stdout",
     "output_type": "stream",
     "text": [
      "#####################################################\n",
      "#### Most probale state according to simulation ####\n",
      "-----------------------|0000|-----------------------\n",
      "####################################################\n",
      "with corresponding MSA:\n",
      " --- Invalid state --- \n",
      "(Returning 2D zero array)\n",
      "[[0]\n",
      " [0]\n",
      " [0]\n",
      " [0]]\n",
      "####################################################\n"
     ]
    }
   ],
   "source": [
    "idx = 0\n",
    "my_simulation.print_solution(idx)"
   ]
  },
  {
   "cell_type": "markdown",
   "metadata": {},
   "source": [
    "## Testcase 2)"
   ]
  },
  {
   "cell_type": "code",
   "execution_count": 7,
   "metadata": {},
   "outputs": [
    {
     "name": "stdout",
     "output_type": "stream",
     "text": [
      "Initial matrix:\n",
      " [['A' 'G']\n",
      " ['G' '_']]\n",
      "Valid solutions:\n",
      "[['A' 'G']\n",
      " ['G' '_']]\n",
      "[['A' 'G']\n",
      " ['_' 'G']]\n"
     ]
    }
   ],
   "source": [
    "## Setting 1: penalties = 100,100,100 ; backend_name=\"qasm_simulator\" ; shots=100000; p = 6; theta_0 = np.ones(p); method='COBYLA'\n",
    "\n",
    "my_strings   = np.array([\"AG\",\"G\"])\n",
    "my_penalties = np.array([1,1,1])*2\n",
    "my_msa       = MultipleSequenceAlignment(strings = my_strings, penalties = my_penalties) \n",
    "\n",
    "solutions = [my_msa.initial_bitstring,np.array([1,0,0,1,0,1],dtype=np.float64)]\n",
    "\n",
    "\n",
    "print(\"Initial matrix:\\n\",my_msa.initial_MSA)\n",
    "\n",
    "print(\"Valid solutions:\")\n",
    "for solution in solutions:\n",
    "    print(my_msa.bit_state_2_matrix(solution))\n"
   ]
  },
  {
   "cell_type": "code",
   "execution_count": 8,
   "metadata": {},
   "outputs": [],
   "source": [
    "p = 200\n",
    "theta_0 = np.ones(p)\n",
    "\n",
    "my_simulation = QiskitSimulation(initial_MSA=my_msa, theta_0=theta_0, backend_name=\"qasm_simulator\", shots=10000)\n"
   ]
  },
  {
   "cell_type": "code",
   "execution_count": 9,
   "metadata": {},
   "outputs": [
    {
     "name": "stdout",
     "output_type": "stream",
     "text": [
      "Total number of different states found in simulation: 63\n"
     ]
    },
    {
     "data": {
      "text/plain": [
       "     fun: 2.1916\n",
       " message: 'Optimization terminated successfully.'\n",
       "    nfev: 463\n",
       "     nit: 22\n",
       " success: True\n",
       "       x: array([5.89280922, 0.3872103 ])"
      ]
     },
     "execution_count": 9,
     "metadata": {},
     "output_type": "execute_result"
    }
   ],
   "source": [
    "#options = {\"disp\":False,\"maxiter\": 200}\n",
    "#res = minimize(fun = my_simulation.execute_circuit, x0 = theta_0, method='COBYLA',options = options)\n",
    "#res = basinhopping(func = my_simulation.execute_circuit, x0 = theta_0,T=1)\n",
    "\n",
    "bounds = [(0,2 * np.pi), (0,2 * np.pi)]\n",
    "res = differential_evolution(func=my_simulation.execute_circuit, bounds=bounds,popsize=10)\n",
    "print(\"Total number of different states found in simulation:\",len(list(my_simulation.current_counts.values())))\n",
    "res"
   ]
  },
  {
   "cell_type": "code",
   "execution_count": 10,
   "metadata": {},
   "outputs": [
    {
     "data": {
      "image/png": "[encoded data removed]",
      "text/plain": [
       "<Figure size 1800x432 with 1 Axes>"
      ]
     },
     "metadata": {
      "needs_background": "light"
     },
     "output_type": "display_data"
    }
   ],
   "source": [
    "my_simulation.plot_count_histogram(counts = my_simulation.current_counts, solutions = solutions)"
   ]
  },
  {
   "cell_type": "code",
   "execution_count": 11,
   "metadata": {},
   "outputs": [
    {
     "name": "stdout",
     "output_type": "stream",
     "text": [
      "#####################################################\n",
      "#### Most probale state according to simulation ####\n",
      "----------------------|101001|----------------------\n",
      "####################################################\n",
      "with corresponding MSA:\n",
      "[['G' '_']\n",
      " ['_' 'G']]\n",
      "####################################################\n"
     ]
    }
   ],
   "source": [
    "idx = 0\n",
    "my_simulation.print_solution(idx)"
   ]
  },
  {
   "cell_type": "markdown",
   "metadata": {},
   "source": [
    "## Testcase 3)"
   ]
  },
  {
   "cell_type": "code",
   "execution_count": 12,
   "metadata": {},
   "outputs": [
    {
     "name": "stdout",
     "output_type": "stream",
     "text": [
      "Initial matrix:\n",
      " [['A' 'G' 'G']\n",
      " ['G' '_' '_']]\n",
      "Valid solutions:\n",
      "[['A' 'G' 'G']\n",
      " ['G' '_' '_']]\n",
      "[['A' 'G' 'G']\n",
      " ['_' 'G' '_']]\n",
      "[['A' 'G' 'G']\n",
      " ['_' '_' 'G']]\n"
     ]
    }
   ],
   "source": [
    "my_strings   = np.array([\"AGG\",\"G\"])\n",
    "my_penalties = np.array([1,1,1])*2\n",
    "my_msa       = MultipleSequenceAlignment(strings = my_strings, penalties = my_penalties) \n",
    "\n",
    "print(\"Initial matrix:\\n\",my_msa.initial_MSA)\n",
    "\n",
    "valid_sol = np.array([1,0,0,0,1,0,0,0,1,1,0,0])\n",
    "good_sol1 = np.array([1,0,0,0,1,0,0,0,1,0,1,0])\n",
    "good_sol2 = np.array([1,0,0,0,1,0,0,0,1,0,0,1])\n",
    "solutions = [valid_sol,good_sol1,good_sol2]\n",
    "\n",
    "print(\"Valid solutions:\")\n",
    "for solution in solutions:\n",
    "    print(my_msa.bit_state_2_matrix(solution))\n"
   ]
  },
  {
   "cell_type": "code",
   "execution_count": 13,
   "metadata": {},
   "outputs": [
    {
     "name": "stdout",
     "output_type": "stream",
     "text": [
      "Total number of different states found in simulation: 3764\n"
     ]
    },
    {
     "data": {
      "text/plain": [
       "     fun: 3.852505\n",
       "     jac: array([0., 0.])\n",
       " message: 'Optimization terminated successfully.'\n",
       "    nfev: 611\n",
       "     nit: 27\n",
       " success: True\n",
       "       x: array([4.95728066, 6.14013595])"
      ]
     },
     "execution_count": 13,
     "metadata": {},
     "output_type": "execute_result"
    }
   ],
   "source": [
    "p = 2\n",
    "theta_0 = np.ones(p)\n",
    "\n",
    "my_simulation = QiskitSimulation(initial_MSA=my_msa, theta_0=theta_0, backend_name=\"qasm_simulator\", shots=100000)\n",
    "\n",
    "#options = {\"disp\":False,\"maxiter\": 200}\n",
    "#res = minimize(fun = my_simulation.execute_circuit, x0 = theta_0, method='COBYLA',options = options)\n",
    "\n",
    "bounds = [(0,2 * np.pi), (0,2 * np.pi)]\n",
    "res = differential_evolution(func=my_simulation.execute_circuit, bounds=bounds,popsize=10)\n",
    "\n",
    "print(\"Total number of different states found in simulation:\",len(list(my_simulation.current_counts.values())))\n",
    "res"
   ]
  },
  {
   "cell_type": "code",
   "execution_count": 14,
   "metadata": {},
   "outputs": [
    {
     "data": {
      "image/png": "[encoded data removed]",
      "text/plain": [
       "<Figure size 1800x432 with 1 Axes>"
      ]
     },
     "metadata": {
      "needs_background": "light"
     },
     "output_type": "display_data"
    }
   ],
   "source": [
    "my_simulation.plot_count_histogram(counts = my_simulation.current_counts, solutions = solutions)"
   ]
  },
  {
   "cell_type": "code",
   "execution_count": 15,
   "metadata": {},
   "outputs": [
    {
     "name": "stdout",
     "output_type": "stream",
     "text": [
      "#####################################################\n",
      "#### Most probale state according to simulation ####\n",
      "-------------------|011011101110|-------------------\n",
      "####################################################\n",
      "with corresponding MSA:\n",
      " --- Invalid state --- \n",
      "(Returning 2D zero array)\n",
      "[[0 0 0]\n",
      " [0 0 0]]\n",
      "####################################################\n"
     ]
    }
   ],
   "source": [
    "idx = 0\n",
    "my_simulation.print_solution(idx)"
   ]
  },
  {
   "cell_type": "code",
   "execution_count": 16,
   "metadata": {},
   "outputs": [
    {
     "data": {
      "text/plain": [
       "bool"
      ]
     },
     "execution_count": 16,
     "metadata": {},
     "output_type": "execute_result"
    }
   ],
   "source": [
    "type(False)"
   ]
  },
  {
   "cell_type": "code",
   "execution_count": null,
   "metadata": {},
   "outputs": [],
   "source": []
  }
 ],
 "metadata": {
  "interpreter": {
   "hash": "de9184fb1100b1b99a61021f59422ac28d78a243336732ae833608768c206ac0"
  },
  "kernelspec": {
   "display_name": "Python 3.9.7 ('base')",
   "language": "python",
   "name": "python3"
  },
  "language_info": {
   "codemirror_mode": {
    "name": "ipython",
    "version": 3
   },
   "file_extension": ".py",
   "mimetype": "text/x-python",
   "name": "python",
   "nbconvert_exporter": "python",
   "pygments_lexer": "ipython3",
   "version": "3.9.7"
  },
  "orig_nbformat": 4
 },
 "nbformat": 4,
 "nbformat_minor": 2
}
