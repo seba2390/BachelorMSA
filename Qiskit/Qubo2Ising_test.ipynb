{
 "cells": [
  {
   "cell_type": "code",
   "execution_count": 8,
   "metadata": {},
   "outputs": [],
   "source": [
    "import numpy as np\n",
    "from MSA_class import MultipleSequenceAlignment\n",
    "from copy import deepcopy\n",
    "from itertools import permutations\n"
   ]
  },
  {
   "cell_type": "code",
   "execution_count": 9,
   "metadata": {},
   "outputs": [
    {
     "name": "stdout",
     "output_type": "stream",
     "text": [
      "Initial matrix:\n",
      " [['A' 'G']\n",
      " ['G' '_']]\n",
      "Valid solutions:\n",
      "[['A' 'G']\n",
      " ['G' '_']]\n",
      "[['A' 'G']\n",
      " ['_' 'G']]\n"
     ]
    }
   ],
   "source": [
    "my_strings   = np.array([\"AG\",\"G\"])\n",
    "my_penalties = np.array([1,1,1])\n",
    "my_msa       = MultipleSequenceAlignment(strings = my_strings, penalties = my_penalties) \n",
    "\n",
    "solutions = [my_msa.initial_bitstring,np.array([1,0,0,1,0,1],dtype=np.float64)]\n",
    "\n",
    "\n",
    "print(\"Initial matrix:\\n\",my_msa.initial_MSA)\n",
    "\n",
    "print(\"Valid solutions:\")\n",
    "for solution in solutions:\n",
    "    print(my_msa.bit_state_2_matrix(solution))\n",
    "\n"
   ]
  },
  {
   "cell_type": "code",
   "execution_count": 10,
   "metadata": {},
   "outputs": [],
   "source": [
    "s = np.array([1 - 2 * xi for xi in my_msa.initial_bitstring]).reshape((my_msa.initial_bitstring.shape[0],1))\n",
    "x = my_msa.initial_bitstring.reshape((my_msa.initial_bitstring.shape[0],1))\n"
   ]
  },
  {
   "cell_type": "code",
   "execution_count": 11,
   "metadata": {},
   "outputs": [],
   "source": [
    "def QUBO_2_Ising(my_msa):\n",
    "    Q,h,d = my_msa.QUBO_model\n",
    "\n",
    "    J = Q / 4.\n",
    "\n",
    "    g = np.zeros((h.shape))\n",
    "    for i in range(Q.shape[0]):\n",
    "        g -= (Q[:,i].reshape((Q.shape[0],1)) + (Q.T)[:,i].reshape((Q.shape[0],1)) ) / 4.\n",
    "\n",
    "    g -=  h/2\n",
    "\n",
    "    c = np.sum(Q) / 4. + np.sum(h) / 2. + d\n",
    "    return J, g, c\n",
    "\n",
    "Q, h, d = my_msa.QUBO_model\n",
    "J, g, c = QUBO_2_Ising(my_msa)"
   ]
  },
  {
   "cell_type": "code",
   "execution_count": 12,
   "metadata": {},
   "outputs": [
    {
     "data": {
      "text/plain": [
       "(2.0, 2.0)"
      ]
     },
     "execution_count": 12,
     "metadata": {},
     "output_type": "execute_result"
    }
   ],
   "source": [
    "#### Testing one initial state\n",
    "(x.T @ Q @ x + h.T @ x +d)[0][0], (s.T @ J @ s + g.T @ s + c )[0][0]"
   ]
  },
  {
   "cell_type": "code",
   "execution_count": 13,
   "metadata": {},
   "outputs": [
    {
     "name": "stdout",
     "output_type": "stream",
     "text": [
      "Number of permutations: 64\n"
     ]
    }
   ],
   "source": [
    "## Creating all permutations\n",
    "state_dim = len(my_msa.initial_bitstring)\n",
    "all_permutations = []\n",
    "for i in range(state_dim + 1):\n",
    "    current_perm = np.zeros(state_dim,dtype=int)\n",
    "    for ones in range(i):\n",
    "        current_perm[ones] = 1\n",
    "    letter_perms = list(set(permutations(list(current_perm))))\n",
    "    for perm in letter_perms:\n",
    "        all_permutations.append(np.array(list(perm),dtype=int).reshape((len(perm),1)))\n",
    "print(\"Number of permutations:\",len(all_permutations))\n"
   ]
  },
  {
   "cell_type": "code",
   "execution_count": 14,
   "metadata": {},
   "outputs": [
    {
     "data": {
      "text/plain": [
       "array([ True,  True,  True,  True,  True,  True,  True,  True,  True,\n",
       "        True,  True,  True,  True,  True,  True,  True,  True,  True,\n",
       "        True,  True,  True,  True,  True,  True,  True,  True,  True,\n",
       "        True,  True,  True,  True,  True,  True,  True,  True,  True,\n",
       "        True,  True,  True,  True,  True,  True,  True,  True,  True,\n",
       "        True,  True,  True,  True,  True,  True,  True,  True,  True,\n",
       "        True,  True,  True,  True,  True,  True,  True,  True,  True,\n",
       "        True])"
      ]
     },
     "execution_count": 14,
     "metadata": {},
     "output_type": "execute_result"
    }
   ],
   "source": [
    "## Checking that the two models evaluate to same cost on all perms\n",
    "QUBO_costs = []\n",
    "Ising_costs = []\n",
    "for perm in all_permutations:\n",
    "    x = perm.reshape((len(perm),1))\n",
    "    s = (1-2*x)\n",
    "    QUBO_costs.append((x.T @ Q @ x + h.T @ x + d)[0][0])\n",
    "    Ising_costs.append((s.T @ J @ s + g.T @ s + c)[0][0])\n",
    "\n",
    "np.array(QUBO_costs) == np.array(Ising_costs)"
   ]
  },
  {
   "cell_type": "code",
   "execution_count": null,
   "metadata": {},
   "outputs": [],
   "source": []
  }
 ],
 "metadata": {
  "interpreter": {
   "hash": "de9184fb1100b1b99a61021f59422ac28d78a243336732ae833608768c206ac0"
  },
  "kernelspec": {
   "display_name": "Python 3.9.7 ('base')",
   "language": "python",
   "name": "python3"
  },
  "language_info": {
   "codemirror_mode": {
    "name": "ipython",
    "version": 3
   },
   "file_extension": ".py",
   "mimetype": "text/x-python",
   "name": "python",
   "nbconvert_exporter": "python",
   "pygments_lexer": "ipython3",
   "version": "3.9.7"
  },
  "orig_nbformat": 4
 },
 "nbformat": 4,
 "nbformat_minor": 2
}
